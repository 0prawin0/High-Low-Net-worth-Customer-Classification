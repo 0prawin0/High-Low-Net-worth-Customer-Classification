{
 "cells": [
  {
   "cell_type": "markdown",
   "id": "8ab55b3a",
   "metadata": {},
   "source": [
    "### High / Low net worth Customer Classification"
   ]
  },
  {
   "cell_type": "code",
   "execution_count": 263,
   "id": "fe9d90b7",
   "metadata": {
    "ExecuteTime": {
     "end_time": "2023-10-15T21:18:47.741962Z",
     "start_time": "2023-10-15T21:18:47.722024Z"
    },
    "id": "fe9d90b7"
   },
   "outputs": [],
   "source": [
    "import pandas as pd\n",
    "import numpy as np\n",
    "import seaborn as sns\n",
    "import matplotlib.pyplot as plt\n",
    "import pprint\n",
    "from scipy import stats\n",
    "from sklearn.preprocessing import MinMaxScaler\n",
    "from sklearn.linear_model import LogisticRegression\n",
    "from sklearn.metrics import f1_score,recall_score,accuracy_score,precision_score\n",
    "from sklearn.neighbors import KNeighborsClassifier"
   ]
  },
  {
   "cell_type": "code",
   "execution_count": 179,
   "id": "ab819fc2",
   "metadata": {
    "ExecuteTime": {
     "end_time": "2023-10-15T20:51:53.798002Z",
     "start_time": "2023-10-15T20:51:53.782024Z"
    }
   },
   "outputs": [],
   "source": [
    "pd.set_option(\"display.max_columns\",None)"
   ]
  },
  {
   "cell_type": "code",
   "execution_count": 180,
   "id": "c83KZl9WC5Fg",
   "metadata": {
    "ExecuteTime": {
     "end_time": "2023-10-15T20:51:53.857922Z",
     "start_time": "2023-10-15T20:51:53.798002Z"
    },
    "id": "c83KZl9WC5Fg"
   },
   "outputs": [],
   "source": [
    "train_set=pd.read_csv(r'C:\\Users\\Prawin\\Documents\\ML PROJECT\\existing_base_train.csv')"
   ]
  },
  {
   "cell_type": "code",
   "execution_count": 181,
   "id": "5tCiZRfBAhdJ",
   "metadata": {
    "ExecuteTime": {
     "end_time": "2023-10-15T20:51:53.901890Z",
     "start_time": "2023-10-15T20:51:53.857922Z"
    },
    "colab": {
     "base_uri": "https://localhost:8080/",
     "height": 240
    },
    "id": "5tCiZRfBAhdJ",
    "outputId": "6674f6ab-624b-4463-b632-357c57247a63"
   },
   "outputs": [
    {
     "data": {
      "text/html": [
       "<div>\n",
       "<style scoped>\n",
       "    .dataframe tbody tr th:only-of-type {\n",
       "        vertical-align: middle;\n",
       "    }\n",
       "\n",
       "    .dataframe tbody tr th {\n",
       "        vertical-align: top;\n",
       "    }\n",
       "\n",
       "    .dataframe thead th {\n",
       "        text-align: right;\n",
       "    }\n",
       "</style>\n",
       "<table border=\"1\" class=\"dataframe\">\n",
       "  <thead>\n",
       "    <tr style=\"text-align: right;\">\n",
       "      <th></th>\n",
       "      <th>REF_NO</th>\n",
       "      <th>children</th>\n",
       "      <th>age_band</th>\n",
       "      <th>status</th>\n",
       "      <th>occupation</th>\n",
       "      <th>occupation_partner</th>\n",
       "      <th>home_status</th>\n",
       "      <th>family_income</th>\n",
       "      <th>self_employed</th>\n",
       "      <th>self_employed_partner</th>\n",
       "      <th>year_last_moved</th>\n",
       "      <th>TVarea</th>\n",
       "      <th>post_code</th>\n",
       "      <th>post_area</th>\n",
       "      <th>Average_Credit_Card_Transaction</th>\n",
       "      <th>Balance_Transfer</th>\n",
       "      <th>Term_Deposit</th>\n",
       "      <th>Life_Insurance</th>\n",
       "      <th>Medical_Insurance</th>\n",
       "      <th>Average_A/C_Balance</th>\n",
       "      <th>Personal_Loan</th>\n",
       "      <th>Investment_in_Mutual_Fund</th>\n",
       "      <th>Investment_Tax_Saving_Bond</th>\n",
       "      <th>Home_Loan</th>\n",
       "      <th>Online_Purchase_Amount</th>\n",
       "      <th>gender</th>\n",
       "      <th>region</th>\n",
       "      <th>Investment_in_Commudity</th>\n",
       "      <th>Investment_in_Equity</th>\n",
       "      <th>Investment_in_Derivative</th>\n",
       "      <th>Portfolio_Balance</th>\n",
       "      <th>Revenue_Grid</th>\n",
       "    </tr>\n",
       "  </thead>\n",
       "  <tbody>\n",
       "    <tr>\n",
       "      <th>0</th>\n",
       "      <td>5466</td>\n",
       "      <td>2</td>\n",
       "      <td>31-35</td>\n",
       "      <td>Partner</td>\n",
       "      <td>Professional</td>\n",
       "      <td>Professional</td>\n",
       "      <td>Own Home</td>\n",
       "      <td>&gt;=35,000</td>\n",
       "      <td>No</td>\n",
       "      <td>No</td>\n",
       "      <td>1981</td>\n",
       "      <td>Meridian</td>\n",
       "      <td>M51 0GU</td>\n",
       "      <td>M51</td>\n",
       "      <td>26.98</td>\n",
       "      <td>29.99</td>\n",
       "      <td>312.25</td>\n",
       "      <td>299.79</td>\n",
       "      <td>88.72</td>\n",
       "      <td>108.85</td>\n",
       "      <td>175.43</td>\n",
       "      <td>134.35</td>\n",
       "      <td>8.98</td>\n",
       "      <td>55.44</td>\n",
       "      <td>7.68</td>\n",
       "      <td>Female</td>\n",
       "      <td>North West</td>\n",
       "      <td>151.55</td>\n",
       "      <td>81.79</td>\n",
       "      <td>136.02</td>\n",
       "      <td>360.37</td>\n",
       "      <td>2</td>\n",
       "    </tr>\n",
       "    <tr>\n",
       "      <th>1</th>\n",
       "      <td>9091</td>\n",
       "      <td>Zero</td>\n",
       "      <td>45-50</td>\n",
       "      <td>Partner</td>\n",
       "      <td>Secretarial/Admin</td>\n",
       "      <td>Professional</td>\n",
       "      <td>Own Home</td>\n",
       "      <td>&gt;=35,000</td>\n",
       "      <td>No</td>\n",
       "      <td>No</td>\n",
       "      <td>1997</td>\n",
       "      <td>Meridian</td>\n",
       "      <td>L40 2AG</td>\n",
       "      <td>L40</td>\n",
       "      <td>35.98</td>\n",
       "      <td>74.48</td>\n",
       "      <td>0.00</td>\n",
       "      <td>99.96</td>\n",
       "      <td>10.99</td>\n",
       "      <td>48.45</td>\n",
       "      <td>15.99</td>\n",
       "      <td>0.00</td>\n",
       "      <td>0.00</td>\n",
       "      <td>0.00</td>\n",
       "      <td>18.99</td>\n",
       "      <td>Female</td>\n",
       "      <td>North West</td>\n",
       "      <td>44.28</td>\n",
       "      <td>13.91</td>\n",
       "      <td>29.23</td>\n",
       "      <td>89.22</td>\n",
       "      <td>2</td>\n",
       "    </tr>\n",
       "  </tbody>\n",
       "</table>\n",
       "</div>"
      ],
      "text/plain": [
       "   REF_NO children age_band   status         occupation occupation_partner  \\\n",
       "0    5466        2    31-35  Partner       Professional       Professional   \n",
       "1    9091     Zero    45-50  Partner  Secretarial/Admin       Professional   \n",
       "\n",
       "  home_status family_income self_employed self_employed_partner  \\\n",
       "0    Own Home      >=35,000            No                    No   \n",
       "1    Own Home      >=35,000            No                    No   \n",
       "\n",
       "   year_last_moved    TVarea post_code post_area  \\\n",
       "0             1981  Meridian   M51 0GU       M51   \n",
       "1             1997  Meridian   L40 2AG       L40   \n",
       "\n",
       "   Average_Credit_Card_Transaction  Balance_Transfer  Term_Deposit  \\\n",
       "0                            26.98             29.99        312.25   \n",
       "1                            35.98             74.48          0.00   \n",
       "\n",
       "   Life_Insurance  Medical_Insurance  Average_A/C_Balance  Personal_Loan  \\\n",
       "0          299.79              88.72               108.85         175.43   \n",
       "1           99.96              10.99                48.45          15.99   \n",
       "\n",
       "   Investment_in_Mutual_Fund  Investment_Tax_Saving_Bond  Home_Loan  \\\n",
       "0                     134.35                        8.98      55.44   \n",
       "1                       0.00                        0.00       0.00   \n",
       "\n",
       "   Online_Purchase_Amount  gender      region  Investment_in_Commudity  \\\n",
       "0                    7.68  Female  North West                   151.55   \n",
       "1                   18.99  Female  North West                    44.28   \n",
       "\n",
       "   Investment_in_Equity  Investment_in_Derivative  Portfolio_Balance  \\\n",
       "0                 81.79                    136.02             360.37   \n",
       "1                 13.91                     29.23              89.22   \n",
       "\n",
       "   Revenue_Grid  \n",
       "0             2  \n",
       "1             2  "
      ]
     },
     "execution_count": 181,
     "metadata": {},
     "output_type": "execute_result"
    }
   ],
   "source": [
    "train_set.head(2)"
   ]
  },
  {
   "cell_type": "code",
   "execution_count": 182,
   "id": "9b23e8c4",
   "metadata": {
    "ExecuteTime": {
     "end_time": "2023-10-15T20:51:53.917867Z",
     "start_time": "2023-10-15T20:51:53.901890Z"
    },
    "id": "9b23e8c4"
   },
   "outputs": [],
   "source": [
    "# Separating X and y\n",
    "# Removing post code and ref_no as post area can be used for analysis and ref_no is unique id\n",
    "\n",
    "y_main=train_set['Revenue_Grid']\n",
    "x_main=train_set.drop(columns=['Revenue_Grid','post_code','REF_NO'])"
   ]
  },
  {
   "cell_type": "markdown",
   "id": "92b3ddd1",
   "metadata": {},
   "source": [
    "#### Data Preprocessing"
   ]
  },
  {
   "cell_type": "code",
   "execution_count": 183,
   "id": "4a9cb55c",
   "metadata": {
    "ExecuteTime": {
     "end_time": "2023-10-15T20:51:53.997761Z",
     "start_time": "2023-10-15T20:51:53.917867Z"
    },
    "colab": {
     "base_uri": "https://localhost:8080/"
    },
    "id": "4a9cb55c",
    "outputId": "b4e677cd-66c5-430f-dcfb-520ba5b5681c"
   },
   "outputs": [
    {
     "name": "stdout",
     "output_type": "stream",
     "text": [
      "Column is: age_band\n",
      "44\n",
      "Column is: status\n",
      "40\n",
      "Column is: occupation\n",
      "449\n",
      "Column is: occupation_partner\n",
      "1942\n",
      "Column is: family_income\n",
      "108\n",
      "Column is: TVarea\n",
      "154\n",
      "Column is: gender\n",
      "31\n",
      "Column is: region\n",
      "866\n"
     ]
    }
   ],
   "source": [
    "for z in columns:\n",
    "    if x_main[x_main[z]=='Unknown'][z].count() !=0:\n",
    "        print('Column is:',z)\n",
    "        print(x_main[x_main[z]=='Unknown'][z].count())\n",
    "        \n"
   ]
  },
  {
   "cell_type": "code",
   "execution_count": 184,
   "id": "c64ee2de",
   "metadata": {
    "ExecuteTime": {
     "end_time": "2023-10-15T20:51:54.069665Z",
     "start_time": "2023-10-15T20:51:54.001755Z"
    },
    "id": "c64ee2de"
   },
   "outputs": [],
   "source": [
    "# As in columns age_band, status, family income, TVarea, gender and region, the number of Unknowns are less, we shall \n",
    "# replace them with mode\n",
    "\n",
    "columns_2=['age_band','status','family_income','TVarea','gender','region']\n",
    "for y in columns_2:\n",
    "    z=str(x_main[y].mode())\n",
    "    x_main[y]=x_main[y].str.replace('Unknown',z)\n"
   ]
  },
  {
   "cell_type": "code",
   "execution_count": 185,
   "id": "b3867133",
   "metadata": {
    "ExecuteTime": {
     "end_time": "2023-10-15T20:51:54.081649Z",
     "start_time": "2023-10-15T20:51:54.069665Z"
    },
    "id": "b3867133"
   },
   "outputs": [],
   "source": [
    "# Unknowns in columns occupation an occupation_partner shall be replaced by checking the mode considering the age band as well\n",
    "\n",
    "retired_age_band=['61-65','65-70','71+']"
   ]
  },
  {
   "cell_type": "code",
   "execution_count": 186,
   "id": "9cFWHlrmHdnp",
   "metadata": {
    "ExecuteTime": {
     "end_time": "2023-10-15T20:51:54.121595Z",
     "start_time": "2023-10-15T20:51:54.081649Z"
    },
    "id": "9cFWHlrmHdnp"
   },
   "outputs": [],
   "source": [
    "x_main.loc[(x_main['occupation']=='Unknown') & (x_main['age_band'].isin(retired_age_band)), 'occupation']='Retired'\n",
    "x_main.loc[(x_main['occupation']=='Unknown'), 'occupation']='Professional'\n",
    "x_main.loc[(x_main['occupation_partner']=='Unknown') & (x_main['age_band'].isin(retired_age_band)), 'occupation_partner']='Retired'\n",
    "x_main.loc[(x_main['occupation_partner']=='Unknown'), 'occupation_partner']='Professional'"
   ]
  },
  {
   "cell_type": "code",
   "execution_count": 187,
   "id": "TUZUC6rBR7UY",
   "metadata": {
    "ExecuteTime": {
     "end_time": "2023-10-15T20:51:54.137575Z",
     "start_time": "2023-10-15T20:51:54.125590Z"
    },
    "colab": {
     "base_uri": "https://localhost:8080/"
    },
    "id": "TUZUC6rBR7UY",
    "outputId": "7e7ec191-6964-48b2-d0f2-dd5818613ac7"
   },
   "outputs": [
    {
     "data": {
      "text/plain": [
       "45-50                        1098\n",
       "41-45                         903\n",
       "36-40                         895\n",
       "55-60                         865\n",
       "31-35                         840\n",
       "51-55                         833\n",
       "26-30                         735\n",
       "61-65                         700\n",
       "65-70                         468\n",
       "22-25                         356\n",
       "71+                           337\n",
       "18-21                          50\n",
       "0    45-50\\ndtype: object      44\n",
       "Name: age_band, dtype: int64"
      ]
     },
     "execution_count": 187,
     "metadata": {},
     "output_type": "execute_result"
    }
   ],
   "source": [
    "x_main['age_band'].value_counts()"
   ]
  },
  {
   "cell_type": "code",
   "execution_count": 188,
   "id": "oYdxc9wxUbk9",
   "metadata": {
    "ExecuteTime": {
     "end_time": "2023-10-15T20:51:54.153552Z",
     "start_time": "2023-10-15T20:51:54.137575Z"
    },
    "id": "oYdxc9wxUbk9"
   },
   "outputs": [],
   "source": [
    "x_main['age_band'] = x_main['age_band'].str.replace('0    45-50\\ndtype: object','45-50')"
   ]
  },
  {
   "cell_type": "code",
   "execution_count": 189,
   "id": "t9v29NSyVHRD",
   "metadata": {
    "ExecuteTime": {
     "end_time": "2023-10-15T20:51:54.225552Z",
     "start_time": "2023-10-15T20:51:54.153552Z"
    },
    "id": "t9v29NSyVHRD"
   },
   "outputs": [],
   "source": [
    "# Splitting column age band to upper columns\n",
    "\n",
    "x_main['age_band'] = x_main['age_band'].str.replace('45-50','50',regex=False)\n",
    "x_main['age_band'] = x_main['age_band'].str.replace('41-45','45',regex=False)\n",
    "x_main['age_band'] = x_main['age_band'].str.replace('36-40','40',regex=False)\n",
    "x_main['age_band'] = x_main['age_band'].str.replace('55-60','60',regex=False)\n",
    "x_main['age_band'] = x_main['age_band'].str.replace('31-35','35',regex=False)\n",
    "x_main['age_band'] = x_main['age_band'].str.replace('51-55','55',regex=False)\n",
    "x_main['age_band'] = x_main['age_band'].str.replace('26-30','30',regex=False)\n",
    "x_main['age_band'] = x_main['age_band'].str.replace('61-65','65',regex=False)\n",
    "x_main['age_band'] = x_main['age_band'].str.replace('65-70','70',regex=False)\n",
    "x_main['age_band'] = x_main['age_band'].str.replace('22-25','25',regex=False)\n",
    "x_main['age_band'] = x_main['age_band'].str.replace('71+','71',regex=False)\n",
    "x_main['age_band'] = x_main['age_band'].str.replace('18-21','21',regex=False)"
   ]
  },
  {
   "cell_type": "code",
   "execution_count": 190,
   "id": "VwIn4OfGVSoC",
   "metadata": {
    "ExecuteTime": {
     "end_time": "2023-10-15T20:51:54.241495Z",
     "start_time": "2023-10-15T20:51:54.225552Z"
    },
    "id": "VwIn4OfGVSoC"
   },
   "outputs": [],
   "source": [
    "# Converting the column to numeric data types\n",
    "\n",
    "x_main[['age_band']] = x_main[['age_band']].apply(pd.to_numeric)"
   ]
  },
  {
   "cell_type": "code",
   "execution_count": 191,
   "id": "pIAiJr5tcbnf",
   "metadata": {
    "ExecuteTime": {
     "end_time": "2023-10-15T20:51:54.253481Z",
     "start_time": "2023-10-15T20:51:54.241495Z"
    },
    "id": "pIAiJr5tcbnf"
   },
   "outputs": [],
   "source": [
    "salary_1=['<22,500, >=20,000', '<25,000, >=22,500','<30,000, >=27,500', '<20,000, >=17,500', '<27,500, >=25,000','< 4,000', '<15,000, >=12,500', '<17,500, >=15,000',\n",
    "       '< 8,000, >= 4,000', '<12,500, >=10,000', '<10,000, >= 8,000']"
   ]
  },
  {
   "cell_type": "code",
   "execution_count": 192,
   "id": "GHQW_3lZLeqS",
   "metadata": {
    "ExecuteTime": {
     "end_time": "2023-10-15T20:51:54.333345Z",
     "start_time": "2023-10-15T20:51:54.253481Z"
    },
    "id": "GHQW_3lZLeqS"
   },
   "outputs": [],
   "source": [
    "# Splitting column family income to upper and lower limit columns\n",
    "\n",
    "x_main['family_income'] = x_main['family_income'].str.replace('>=35,000','35000',regex=False)\n",
    "x_main['family_income'] = x_main['family_income'].str.replace('<22,500, >=20,000','22500',regex=False)\n",
    "x_main['family_income'] = x_main['family_income'].str.replace('<25,000, >=22,500','25000',regex=False)\n",
    "x_main['family_income'] = x_main['family_income'].str.replace('<30,000, >=27,500','30000',regex=False)\n",
    "x_main['family_income'] = x_main['family_income'].str.replace('<20,000, >=17,500','20000',regex=False)\n",
    "x_main['family_income'] = x_main['family_income'].str.replace('<27,500, >=25,000','27500',regex=False)\n",
    "x_main['family_income'] = x_main['family_income'].str.replace('< 4,000','4000',regex=False)\n",
    "x_main['family_income'] = x_main['family_income'].str.replace('<15,000, >=12,500','15000',regex=False)\n",
    "x_main['family_income'] = x_main['family_income'].str.replace('<17,500, >=15,000','17500',regex=False)\n",
    "x_main['family_income'] = x_main['family_income'].str.replace('< 8,000, >= 4,000','8000',regex=False)\n",
    "x_main['family_income'] = x_main['family_income'].str.replace('<12,500, >=10,000','12500',regex=False)\n",
    "x_main['family_income'] = x_main['family_income'].str.replace('<10,000, >= 8,000','10000',regex=False)\n",
    "x_main['family_income'] = x_main['family_income'].str.replace('0    35000\\ndtype: object','35000',regex=False)"
   ]
  },
  {
   "cell_type": "code",
   "execution_count": 193,
   "id": "nW-sThZUOl_S",
   "metadata": {
    "ExecuteTime": {
     "end_time": "2023-10-15T20:51:54.349325Z",
     "start_time": "2023-10-15T20:51:54.337341Z"
    },
    "id": "nW-sThZUOl_S"
   },
   "outputs": [],
   "source": [
    "# Converting the column to numeric data types\n",
    "\n",
    "x_main[['family_income']] = x_main[['family_income']].apply(pd.to_numeric)"
   ]
  },
  {
   "cell_type": "code",
   "execution_count": 194,
   "id": "mDHs6PlVP8Qb",
   "metadata": {
    "ExecuteTime": {
     "end_time": "2023-10-15T20:51:54.377286Z",
     "start_time": "2023-10-15T20:51:54.349325Z"
    },
    "id": "mDHs6PlVP8Qb"
   },
   "outputs": [],
   "source": [
    "# Cleaning the columns \n",
    "\n",
    "x_main['status'] = x_main['status'].str.replace('0    Partner\\ndtype: object','Partner',regex=False)\n",
    "x_main.loc[x_main['year_last_moved']==0,'year_last_moved']=1997\n",
    "x_main['TVarea'] = x_main['TVarea'].str.replace('0    Central\\ndtype: object','Central',regex=False)\n",
    "x_main['gender'] = x_main['gender'].str.replace('0    Female\\ndtype: object','Female',regex=False)\n",
    "x_main['region'] = x_main['region'].str.replace('0    South East\\ndtype: object','South East',regex=False)"
   ]
  },
  {
   "cell_type": "code",
   "execution_count": 195,
   "id": "44bf5398",
   "metadata": {
    "ExecuteTime": {
     "end_time": "2023-10-15T20:51:54.409244Z",
     "start_time": "2023-10-15T20:51:54.377286Z"
    }
   },
   "outputs": [],
   "source": [
    "# Changing children column to numeric\n",
    "\n",
    "x_main['children'] = x_main['children'].str.replace('Zero','0',regex=False)\n",
    "x_main['children'] = x_main['children'].str.replace('4+','4',regex=False)\n",
    "x_main[['children']] = x_main[['children']].apply(pd.to_numeric)"
   ]
  },
  {
   "cell_type": "code",
   "execution_count": 196,
   "id": "c26bce29",
   "metadata": {
    "ExecuteTime": {
     "end_time": "2023-10-15T20:51:54.425223Z",
     "start_time": "2023-10-15T20:51:54.409244Z"
    }
   },
   "outputs": [
    {
     "data": {
      "text/plain": [
       "Index(['children', 'age_band', 'status', 'occupation', 'occupation_partner',\n",
       "       'home_status', 'family_income', 'self_employed',\n",
       "       'self_employed_partner', 'year_last_moved', 'TVarea', 'post_area',\n",
       "       'Average_Credit_Card_Transaction', 'Balance_Transfer', 'Term_Deposit',\n",
       "       'Life_Insurance', 'Medical_Insurance', 'Average_A/C_Balance',\n",
       "       'Personal_Loan', 'Investment_in_Mutual_Fund',\n",
       "       'Investment_Tax_Saving_Bond', 'Home_Loan', 'Online_Purchase_Amount',\n",
       "       'gender', 'region', 'Investment_in_Commudity', 'Investment_in_Equity',\n",
       "       'Investment_in_Derivative', 'Portfolio_Balance'],\n",
       "      dtype='object')"
      ]
     },
     "execution_count": 196,
     "metadata": {},
     "output_type": "execute_result"
    }
   ],
   "source": [
    "x_main.columns"
   ]
  },
  {
   "cell_type": "code",
   "execution_count": 197,
   "id": "b05f347b",
   "metadata": {
    "ExecuteTime": {
     "end_time": "2023-10-15T20:51:54.454742Z",
     "start_time": "2023-10-15T20:51:54.425223Z"
    }
   },
   "outputs": [],
   "source": [
    "# Outlier detection\n",
    "\n",
    "num_cols = x_main[['Average_Credit_Card_Transaction', 'Balance_Transfer', 'Term_Deposit',\n",
    "       'Life_Insurance', 'Medical_Insurance', 'Average_A/C_Balance',\n",
    "       'Personal_Loan', 'Investment_in_Mutual_Fund',\n",
    "       'Investment_Tax_Saving_Bond', 'Home_Loan', 'Online_Purchase_Amount',\n",
    "        'Investment_in_Commudity', 'Investment_in_Equity',\n",
    "       'Investment_in_Derivative', 'Portfolio_Balance']]\n",
    "\n",
    "Q1 = num_cols.quantile(0.25)\n",
    "Q3 = num_cols.quantile(0.75)\n",
    "IQR = Q3 - Q1\n",
    "lower_bound = Q1 - 1.5 * IQR\n",
    "upper_bound = Q3 + 1.5 * IQR"
   ]
  },
  {
   "cell_type": "code",
   "execution_count": 198,
   "id": "4dad9fb6",
   "metadata": {
    "ExecuteTime": {
     "end_time": "2023-10-15T20:51:54.529080Z",
     "start_time": "2023-10-15T20:51:54.454742Z"
    }
   },
   "outputs": [
    {
     "name": "stdout",
     "output_type": "stream",
     "text": [
      "column is: Average_Credit_Card_Transaction\n",
      "min side outliers count is:\n",
      "0\n",
      "max side outliers count is:\n",
      "1046\n",
      "----------------------------------------\n",
      "column is: Balance_Transfer\n",
      "min side outliers count is:\n",
      "0\n",
      "max side outliers count is:\n",
      "573\n",
      "----------------------------------------\n",
      "column is: Term_Deposit\n",
      "min side outliers count is:\n",
      "0\n",
      "max side outliers count is:\n",
      "752\n",
      "----------------------------------------\n",
      "column is: Life_Insurance\n",
      "min side outliers count is:\n",
      "0\n",
      "max side outliers count is:\n",
      "446\n",
      "----------------------------------------\n",
      "column is: Medical_Insurance\n",
      "min side outliers count is:\n",
      "0\n",
      "max side outliers count is:\n",
      "599\n",
      "----------------------------------------\n",
      "column is: Average_A/C_Balance\n",
      "min side outliers count is:\n",
      "0\n",
      "max side outliers count is:\n",
      "459\n",
      "----------------------------------------\n",
      "column is: Personal_Loan\n",
      "min side outliers count is:\n",
      "0\n",
      "max side outliers count is:\n",
      "1120\n",
      "----------------------------------------\n",
      "column is: Investment_in_Mutual_Fund\n",
      "min side outliers count is:\n",
      "0\n",
      "max side outliers count is:\n",
      "404\n",
      "----------------------------------------\n",
      "column is: Investment_Tax_Saving_Bond\n",
      "min side outliers count is:\n",
      "0\n",
      "max side outliers count is:\n",
      "1341\n",
      "----------------------------------------\n",
      "column is: Home_Loan\n",
      "min side outliers count is:\n",
      "0\n",
      "max side outliers count is:\n",
      "1122\n",
      "----------------------------------------\n",
      "column is: Online_Purchase_Amount\n",
      "min side outliers count is:\n",
      "0\n",
      "max side outliers count is:\n",
      "1472\n",
      "----------------------------------------\n",
      "column is: Investment_in_Commudity\n",
      "min side outliers count is:\n",
      "0\n",
      "max side outliers count is:\n",
      "427\n",
      "----------------------------------------\n",
      "column is: Investment_in_Equity\n",
      "min side outliers count is:\n",
      "0\n",
      "max side outliers count is:\n",
      "489\n",
      "----------------------------------------\n",
      "column is: Investment_in_Derivative\n",
      "min side outliers count is:\n",
      "0\n",
      "max side outliers count is:\n",
      "451\n",
      "----------------------------------------\n",
      "column is: Portfolio_Balance\n",
      "min side outliers count is:\n",
      "0\n",
      "max side outliers count is:\n",
      "415\n",
      "----------------------------------------\n"
     ]
    }
   ],
   "source": [
    "# Checking the count of outliers\n",
    "\n",
    "for x in num_cols.columns:\n",
    "    print('column is:',x)\n",
    "    print('min side outliers count is:')\n",
    "    print(num_cols[num_cols[x] < lower_bound[x]][x].count())\n",
    "    print('max side outliers count is:')\n",
    "    print(num_cols[num_cols[x] > upper_bound[x]][x].count())\n",
    "    print('-'*40)\n",
    "    \n",
    "# There are outliers in columns Average_Credit_Card_Transaction, Balance_Transfer, Term_Deposit, Life_Insurance,\n",
    "# Medical_Insurance, Average_A/C_Balance, Personal_Loan,Investment_in_Mutual_Fund,Investment_Tax_Saving_Bond,\n",
    "# Home_Loan,Online_Purchase_Amount, Investment_in_Commudity, Investment_in_Equity,Investment_in_Derivative, Portfolio_Balance"
   ]
  },
  {
   "cell_type": "code",
   "execution_count": 199,
   "id": "39d4ccd0",
   "metadata": {
    "ExecuteTime": {
     "end_time": "2023-10-15T20:51:54.561037Z",
     "start_time": "2023-10-15T20:51:54.529080Z"
    }
   },
   "outputs": [],
   "source": [
    "# Capping outliers with upper bound\n",
    "\n",
    "for x in num_cols.columns:\n",
    "    x_main.loc[x_main[x] > upper_bound[x],x] = upper_bound[x]"
   ]
  },
  {
   "cell_type": "markdown",
   "id": "2e7ac52e",
   "metadata": {},
   "source": [
    "#### EDA"
   ]
  },
  {
   "cell_type": "code",
   "execution_count": 200,
   "id": "b32e62f8",
   "metadata": {
    "ExecuteTime": {
     "end_time": "2023-10-15T20:51:57.545082Z",
     "start_time": "2023-10-15T20:51:54.561037Z"
    }
   },
   "outputs": [
    {
     "data": {
      "image/png": "[encoded data removed]",
      "text/plain": [
       "<Figure size 1440x1440 with 10 Axes>"
      ]
     },
     "metadata": {
      "needs_background": "light"
     },
     "output_type": "display_data"
    }
   ],
   "source": [
    "fig,axes=plt.subplots(5,2,figsize=(20,20))\n",
    "fig.suptitle('Distribution of Numerical columns')\n",
    "sns.histplot(data=x_main,x='Average_Credit_Card_Transaction',palette=\"Set3\",ax=axes[0,0],kde=True).set(title=\"Histplot of avg credit card transactions\")\n",
    "sns.histplot(data=x_main,x='age_band',palette=\"Set3\",ax=axes[0,1],kde=True).set(title=\"Histplot of age bands\")\n",
    "sns.histplot(data=x_main,x='Balance_Transfer',palette=\"Set3\",ax=axes[1,0],kde=True).set(title=\"Histplot of balance transfers\")\n",
    "sns.histplot(data=x_main,x='Term_Deposit',palette=\"Set3\",ax=axes[1,1],kde=True).set(title=\"Histplot of term deposits\")\n",
    "sns.histplot(data=x_main,x='Personal_Loan',palette=\"Set3\",ax=axes[2,0],kde=True).set(title=\"Histplot of personal loans\")\n",
    "sns.histplot(data=x_main,x='Home_Loan',palette=\"Set3\",ax=axes[2,1],kde=True).set(title=\"Histplot of home loans\")\n",
    "sns.histplot(data=x_main,x='family_income',palette=\"Set3\",ax=axes[3,0],kde=True).set(title=\"Histplot of family_income\")\n",
    "sns.histplot(data=x_main,x='Online_Purchase_Amount',palette=\"Set3\",ax=axes[3,1],kde=True).set(title=\"Histplot of online purchase amount\")\n",
    "sns.histplot(data=x_main,x='Portfolio_Balance',palette=\"Set3\",ax=axes[4,0],kde=True).set(title=\"Histplot of portfolio balance\")\n",
    "\n",
    "fig.tight_layout()\n"
   ]
  },
  {
   "cell_type": "code",
   "execution_count": 201,
   "id": "cda24dd1",
   "metadata": {
    "ExecuteTime": {
     "end_time": "2023-10-15T20:51:58.645038Z",
     "start_time": "2023-10-15T20:51:57.545082Z"
    }
   },
   "outputs": [
    {
     "data": {
      "text/plain": [
       "Text(0.5, 1.0, 'self_employed_partner')"
      ]
     },
     "execution_count": 201,
     "metadata": {},
     "output_type": "execute_result"
    },
    {
     "data": {
      "image/png": "[encoded data removed]",
      "text/plain": [
       "<Figure size 1440x1440 with 7 Axes>"
      ]
     },
     "metadata": {},
     "output_type": "display_data"
    }
   ],
   "source": [
    "plt.figure(figsize=(20,20))\n",
    "fig.tight_layout()\n",
    "plt.subplot(4,2,1)\n",
    "plt.pie(x_main['children'].value_counts(),labels=x_main['children'].value_counts().index,autopct=\"%.1f%%\")\n",
    "plt.title('children',fontsize=10)\n",
    "plt.subplot(4,2,2)\n",
    "plt.pie(x_main['status'].value_counts(),labels=x_main['status'].value_counts().index,autopct=\"%.1f%%\")\n",
    "plt.title('status',fontsize=10)\n",
    "plt.subplot(4,2,3)\n",
    "plt.pie(x_main['occupation'].value_counts(),labels=x_main['occupation'].value_counts().index,autopct=\"%.1f%%\")\n",
    "plt.title('occupation',fontsize=10)\n",
    "plt.subplot(4,2,4)\n",
    "plt.pie(x_main['occupation_partner'].value_counts(),labels=x_main['occupation_partner'].value_counts().index,autopct=\"%.1f%%\")\n",
    "plt.title('occupation_partner',fontsize=10)\n",
    "plt.subplot(4,2,5)\n",
    "plt.pie(x_main['home_status'].value_counts(),labels=x_main['home_status'].value_counts().index,autopct=\"%.1f%%\")\n",
    "plt.title('home_status',fontsize=10)\n",
    "plt.subplot(4,2,6)\n",
    "plt.pie(x_main['self_employed'].value_counts(),labels=x_main['self_employed'].value_counts().index,autopct=\"%.1f%%\")\n",
    "plt.title('self_employed',fontsize=10)\n",
    "plt.subplot(4,2,7)\n",
    "plt.pie(x_main['self_employed_partner'].value_counts(),labels=x_main['self_employed_partner'].value_counts().index,autopct=\"%.1f%%\")\n",
    "plt.title('self_employed_partner',fontsize=10)\n",
    "\n",
    "# Most of the people have 0 zero children\n",
    "# Almost 75.9% of people have partners\n",
    "# Majority of people are either professionals or retired\n",
    "# Majority of people have partners that are professionals\n",
    "# 92.4% of people own houses\n",
    "# 92.8% of people are not self employed\n",
    "# 88.7% of people do not have self employed partners"
   ]
  },
  {
   "cell_type": "code",
   "execution_count": 202,
   "id": "0d599e8c",
   "metadata": {
    "ExecuteTime": {
     "end_time": "2023-10-15T20:51:58.813080Z",
     "start_time": "2023-10-15T20:51:58.645038Z"
    }
   },
   "outputs": [
    {
     "data": {
      "image/png": "[encoded data removed]",
      "text/plain": [
       "<Figure size 1080x360 with 1 Axes>"
      ]
     },
     "metadata": {
      "needs_background": "light"
     },
     "output_type": "display_data"
    }
   ],
   "source": [
    "# How is the portfolio balance varying among differnt occupations?\n",
    "\n",
    "plt.figure(figsize=(15,5))\n",
    "x_main.groupby('occupation')['Portfolio_Balance'].mean().plot(kind='bar',color='#3F617A')\n",
    "plt.xticks(rotation=0)\n",
    "plt.show()\n",
    "\n",
    "# From below graph, students have the highest portfolio balance and retired people have the least."
   ]
  },
  {
   "cell_type": "code",
   "execution_count": 203,
   "id": "e51ca923",
   "metadata": {
    "ExecuteTime": {
     "end_time": "2023-10-15T20:51:58.985010Z",
     "start_time": "2023-10-15T20:51:58.813080Z"
    }
   },
   "outputs": [
    {
     "data": {
      "image/png": "[encoded data removed]",
      "text/plain": [
       "<Figure size 1080x360 with 1 Axes>"
      ]
     },
     "metadata": {
      "needs_background": "light"
     },
     "output_type": "display_data"
    }
   ],
   "source": [
    "# How is portfolio balance varying with occupation of the partner\n",
    "\n",
    "plt.figure(figsize=(15,5))\n",
    "x_main.groupby('occupation_partner')['Portfolio_Balance'].mean().plot(kind='bar',color='#228B22')\n",
    "plt.xticks(rotation=0)\n",
    "plt.show()\n",
    "\n",
    "# Portfolio balance is highest for people with partner of occupation Secretarial/Admin and least for retired partners"
   ]
  },
  {
   "cell_type": "code",
   "execution_count": 204,
   "id": "f6ab90d4",
   "metadata": {
    "ExecuteTime": {
     "end_time": "2023-10-15T20:51:59.159257Z",
     "start_time": "2023-10-15T20:51:58.985010Z"
    }
   },
   "outputs": [
    {
     "data": {
      "image/png": "[encoded data removed]",
      "text/plain": [
       "<Figure size 1080x360 with 1 Axes>"
      ]
     },
     "metadata": {
      "needs_background": "light"
     },
     "output_type": "display_data"
    }
   ],
   "source": [
    "# How does age groups vary with personal loan\n",
    "\n",
    "plt.figure(figsize=(15,5))\n",
    "x_main.groupby(by='age_band')['Personal_Loan'].mean().plot(kind = 'line',color = '#eb3434')\n",
    "plt.ylabel('Personal loan amount')\n",
    "plt.show()\n",
    "\n",
    "# Personal loan is mostly talen by people between agen 30 and 50. After 50 years of age, personal loan amount decreases"
   ]
  },
  {
   "cell_type": "code",
   "execution_count": 205,
   "id": "6b48772c",
   "metadata": {
    "ExecuteTime": {
     "end_time": "2023-10-15T20:51:59.308565Z",
     "start_time": "2023-10-15T20:51:59.163250Z"
    }
   },
   "outputs": [
    {
     "data": {
      "image/png": "[encoded data removed]",
      "text/plain": [
       "<Figure size 720x360 with 1 Axes>"
      ]
     },
     "metadata": {
      "needs_background": "light"
     },
     "output_type": "display_data"
    }
   ],
   "source": [
    "# How are investments varying with poeple of different ages\n",
    "\n",
    "plt.figure(figsize=(10,5))\n",
    "temp_df = pd.DataFrame()\n",
    "temp_df['Investments'] = x_main['Investment_Tax_Saving_Bond'] + x_main['Investment_in_Commudity']+x_main['Investment_in_Derivative']+x_main['Investment_in_Equity']+x_main['Investment_in_Mutual_Fund']\n",
    "temp_df['ages'] = x_main['age_band']\n",
    "temp_df.groupby('ages')['Investments'].mean().plot(kind='line')\n",
    "plt.ylabel('Total Investments')\n",
    "plt.show()\n",
    "\n",
    "# As age increases, total investments decreases"
   ]
  },
  {
   "cell_type": "code",
   "execution_count": 206,
   "id": "b9a95998",
   "metadata": {
    "ExecuteTime": {
     "end_time": "2023-10-15T20:51:59.444941Z",
     "start_time": "2023-10-15T20:51:59.308565Z"
    }
   },
   "outputs": [
    {
     "data": {
      "image/png": "[encoded data removed]",
      "text/plain": [
       "<Figure size 720x360 with 1 Axes>"
      ]
     },
     "metadata": {
      "needs_background": "light"
     },
     "output_type": "display_data"
    }
   ],
   "source": [
    "# How are insurances varying with people of different number of children\n",
    "\n",
    "plt.figure(figsize=(10,5))\n",
    "temp_df['Insurances'] = x_main['Life_Insurance']+x_main['Medical_Insurance']\n",
    "temp_df['children'] = x_main['children']\n",
    "temp_df.groupby('children')['Insurances'].mean().plot(kind='barh')\n",
    "plt.ylabel('Total Insurances')\n",
    "plt.show()\n",
    "\n",
    "# People with 4 or more children have highest insurances and people with 0 children have least insurances "
   ]
  },
  {
   "cell_type": "markdown",
   "id": "f1453bdb",
   "metadata": {},
   "source": [
    "#### Feature Engineering"
   ]
  },
  {
   "cell_type": "code",
   "execution_count": 209,
   "id": "jJmiLDMMmh0Y",
   "metadata": {
    "ExecuteTime": {
     "end_time": "2023-10-15T20:52:43.439099Z",
     "start_time": "2023-10-15T20:52:43.416315Z"
    },
    "id": "jJmiLDMMmh0Y"
   },
   "outputs": [],
   "source": [
    "x_main.drop(['year_last_moved','TVarea'],inplace=True,axis=1)\n",
    "x_main.drop(['post_area'],inplace=True,axis=1)"
   ]
  },
  {
   "cell_type": "markdown",
   "id": "gqfOldJCEpAi",
   "metadata": {
    "id": "gqfOldJCEpAi"
   },
   "source": [
    "#### One hot encoding for all the categorical columns"
   ]
  },
  {
   "cell_type": "code",
   "execution_count": 210,
   "id": "9l7C7T7BXVjd",
   "metadata": {
    "ExecuteTime": {
     "end_time": "2023-10-15T20:52:45.476653Z",
     "start_time": "2023-10-15T20:52:45.464641Z"
    },
    "id": "9l7C7T7BXVjd"
   },
   "outputs": [],
   "source": [
    "cat_cols =list(['status', 'occupation', 'occupation_partner', 'home_status',\n",
    "       'self_employed', 'self_employed_partner', 'gender','region'\n",
    "       ])"
   ]
  },
  {
   "cell_type": "code",
   "execution_count": 217,
   "id": "nlQ0bhFvEnER",
   "metadata": {
    "ExecuteTime": {
     "end_time": "2023-10-15T20:56:16.562843Z",
     "start_time": "2023-10-15T20:56:16.526436Z"
    },
    "id": "nlQ0bhFvEnER"
   },
   "outputs": [],
   "source": [
    "encoded_cols = pd.get_dummies(data=x_main,columns=cat_cols)\n",
    "encoded_cols = pd.DataFrame(encoded_cols)"
   ]
  },
  {
   "cell_type": "code",
   "execution_count": 220,
   "id": "b10bb554",
   "metadata": {
    "ExecuteTime": {
     "end_time": "2023-10-15T20:57:56.651822Z",
     "start_time": "2023-10-15T20:57:56.598910Z"
    }
   },
   "outputs": [
    {
     "data": {
      "text/html": [
       "<div>\n",
       "<style scoped>\n",
       "    .dataframe tbody tr th:only-of-type {\n",
       "        vertical-align: middle;\n",
       "    }\n",
       "\n",
       "    .dataframe tbody tr th {\n",
       "        vertical-align: top;\n",
       "    }\n",
       "\n",
       "    .dataframe thead th {\n",
       "        text-align: right;\n",
       "    }\n",
       "</style>\n",
       "<table border=\"1\" class=\"dataframe\">\n",
       "  <thead>\n",
       "    <tr style=\"text-align: right;\">\n",
       "      <th></th>\n",
       "      <th>children</th>\n",
       "      <th>age_band</th>\n",
       "      <th>family_income</th>\n",
       "      <th>Average_Credit_Card_Transaction</th>\n",
       "      <th>Balance_Transfer</th>\n",
       "      <th>Term_Deposit</th>\n",
       "      <th>Life_Insurance</th>\n",
       "      <th>Medical_Insurance</th>\n",
       "      <th>Average_A/C_Balance</th>\n",
       "      <th>Personal_Loan</th>\n",
       "      <th>Investment_in_Mutual_Fund</th>\n",
       "      <th>Investment_Tax_Saving_Bond</th>\n",
       "      <th>Home_Loan</th>\n",
       "      <th>Online_Purchase_Amount</th>\n",
       "      <th>Investment_in_Commudity</th>\n",
       "      <th>Investment_in_Equity</th>\n",
       "      <th>Investment_in_Derivative</th>\n",
       "      <th>Portfolio_Balance</th>\n",
       "      <th>status_Divorced/Separated</th>\n",
       "      <th>status_Partner</th>\n",
       "      <th>status_Single/Never Married</th>\n",
       "      <th>status_Widowed</th>\n",
       "      <th>occupation_Business Manager</th>\n",
       "      <th>occupation_Housewife</th>\n",
       "      <th>occupation_Manual Worker</th>\n",
       "      <th>occupation_Other</th>\n",
       "      <th>occupation_Professional</th>\n",
       "      <th>occupation_Retired</th>\n",
       "      <th>occupation_Secretarial/Admin</th>\n",
       "      <th>occupation_Student</th>\n",
       "      <th>occupation_partner_Business Manager</th>\n",
       "      <th>occupation_partner_Housewife</th>\n",
       "      <th>occupation_partner_Manual Worker</th>\n",
       "      <th>occupation_partner_Other</th>\n",
       "      <th>occupation_partner_Professional</th>\n",
       "      <th>occupation_partner_Retired</th>\n",
       "      <th>occupation_partner_Secretarial/Admin</th>\n",
       "      <th>occupation_partner_Student</th>\n",
       "      <th>home_status_Live in Parental Hom</th>\n",
       "      <th>home_status_Own Home</th>\n",
       "      <th>home_status_Rent Privately</th>\n",
       "      <th>home_status_Rent from Council/HA</th>\n",
       "      <th>home_status_Unclassified</th>\n",
       "      <th>self_employed_No</th>\n",
       "      <th>self_employed_Yes</th>\n",
       "      <th>self_employed_partner_No</th>\n",
       "      <th>self_employed_partner_Yes</th>\n",
       "      <th>gender_Female</th>\n",
       "      <th>gender_Male</th>\n",
       "      <th>region_Channel Islands</th>\n",
       "      <th>region_East Anglia</th>\n",
       "      <th>region_East Midlands</th>\n",
       "      <th>region_Isle of Man</th>\n",
       "      <th>region_North</th>\n",
       "      <th>region_North West</th>\n",
       "      <th>region_Northern Ireland</th>\n",
       "      <th>region_Scotland</th>\n",
       "      <th>region_South East</th>\n",
       "      <th>region_South West</th>\n",
       "      <th>region_Wales</th>\n",
       "      <th>region_West Midlands</th>\n",
       "    </tr>\n",
       "  </thead>\n",
       "  <tbody>\n",
       "    <tr>\n",
       "      <th>0</th>\n",
       "      <td>2</td>\n",
       "      <td>35</td>\n",
       "      <td>35000</td>\n",
       "      <td>26.98</td>\n",
       "      <td>29.99</td>\n",
       "      <td>86.225</td>\n",
       "      <td>232.21875</td>\n",
       "      <td>67.425</td>\n",
       "      <td>108.85</td>\n",
       "      <td>52.06875</td>\n",
       "      <td>134.35</td>\n",
       "      <td>8.98</td>\n",
       "      <td>11.225</td>\n",
       "      <td>7.68</td>\n",
       "      <td>112.06375</td>\n",
       "      <td>62.94125</td>\n",
       "      <td>92.87125</td>\n",
       "      <td>270.50875</td>\n",
       "      <td>0</td>\n",
       "      <td>1</td>\n",
       "      <td>0</td>\n",
       "      <td>0</td>\n",
       "      <td>0</td>\n",
       "      <td>0</td>\n",
       "      <td>0</td>\n",
       "      <td>0</td>\n",
       "      <td>1</td>\n",
       "      <td>0</td>\n",
       "      <td>0</td>\n",
       "      <td>0</td>\n",
       "      <td>0</td>\n",
       "      <td>0</td>\n",
       "      <td>0</td>\n",
       "      <td>0</td>\n",
       "      <td>1</td>\n",
       "      <td>0</td>\n",
       "      <td>0</td>\n",
       "      <td>0</td>\n",
       "      <td>0</td>\n",
       "      <td>1</td>\n",
       "      <td>0</td>\n",
       "      <td>0</td>\n",
       "      <td>0</td>\n",
       "      <td>1</td>\n",
       "      <td>0</td>\n",
       "      <td>1</td>\n",
       "      <td>0</td>\n",
       "      <td>1</td>\n",
       "      <td>0</td>\n",
       "      <td>0</td>\n",
       "      <td>0</td>\n",
       "      <td>0</td>\n",
       "      <td>0</td>\n",
       "      <td>0</td>\n",
       "      <td>1</td>\n",
       "      <td>0</td>\n",
       "      <td>0</td>\n",
       "      <td>0</td>\n",
       "      <td>0</td>\n",
       "      <td>0</td>\n",
       "      <td>0</td>\n",
       "    </tr>\n",
       "    <tr>\n",
       "      <th>1</th>\n",
       "      <td>0</td>\n",
       "      <td>50</td>\n",
       "      <td>35000</td>\n",
       "      <td>35.98</td>\n",
       "      <td>74.48</td>\n",
       "      <td>0.000</td>\n",
       "      <td>99.96000</td>\n",
       "      <td>10.990</td>\n",
       "      <td>48.45</td>\n",
       "      <td>15.99000</td>\n",
       "      <td>0.00</td>\n",
       "      <td>0.00</td>\n",
       "      <td>0.000</td>\n",
       "      <td>18.70</td>\n",
       "      <td>44.28000</td>\n",
       "      <td>13.91000</td>\n",
       "      <td>29.23000</td>\n",
       "      <td>89.22000</td>\n",
       "      <td>0</td>\n",
       "      <td>1</td>\n",
       "      <td>0</td>\n",
       "      <td>0</td>\n",
       "      <td>0</td>\n",
       "      <td>0</td>\n",
       "      <td>0</td>\n",
       "      <td>0</td>\n",
       "      <td>0</td>\n",
       "      <td>0</td>\n",
       "      <td>1</td>\n",
       "      <td>0</td>\n",
       "      <td>0</td>\n",
       "      <td>0</td>\n",
       "      <td>0</td>\n",
       "      <td>0</td>\n",
       "      <td>1</td>\n",
       "      <td>0</td>\n",
       "      <td>0</td>\n",
       "      <td>0</td>\n",
       "      <td>0</td>\n",
       "      <td>1</td>\n",
       "      <td>0</td>\n",
       "      <td>0</td>\n",
       "      <td>0</td>\n",
       "      <td>1</td>\n",
       "      <td>0</td>\n",
       "      <td>1</td>\n",
       "      <td>0</td>\n",
       "      <td>1</td>\n",
       "      <td>0</td>\n",
       "      <td>0</td>\n",
       "      <td>0</td>\n",
       "      <td>0</td>\n",
       "      <td>0</td>\n",
       "      <td>0</td>\n",
       "      <td>1</td>\n",
       "      <td>0</td>\n",
       "      <td>0</td>\n",
       "      <td>0</td>\n",
       "      <td>0</td>\n",
       "      <td>0</td>\n",
       "      <td>0</td>\n",
       "    </tr>\n",
       "    <tr>\n",
       "      <th>2</th>\n",
       "      <td>1</td>\n",
       "      <td>40</td>\n",
       "      <td>22500</td>\n",
       "      <td>0.00</td>\n",
       "      <td>24.46</td>\n",
       "      <td>0.000</td>\n",
       "      <td>18.44000</td>\n",
       "      <td>0.000</td>\n",
       "      <td>0.00</td>\n",
       "      <td>0.02000</td>\n",
       "      <td>10.46</td>\n",
       "      <td>0.00</td>\n",
       "      <td>0.000</td>\n",
       "      <td>0.00</td>\n",
       "      <td>8.58000</td>\n",
       "      <td>1.75000</td>\n",
       "      <td>4.82000</td>\n",
       "      <td>14.50000</td>\n",
       "      <td>0</td>\n",
       "      <td>1</td>\n",
       "      <td>0</td>\n",
       "      <td>0</td>\n",
       "      <td>0</td>\n",
       "      <td>0</td>\n",
       "      <td>1</td>\n",
       "      <td>0</td>\n",
       "      <td>0</td>\n",
       "      <td>0</td>\n",
       "      <td>0</td>\n",
       "      <td>0</td>\n",
       "      <td>0</td>\n",
       "      <td>0</td>\n",
       "      <td>1</td>\n",
       "      <td>0</td>\n",
       "      <td>0</td>\n",
       "      <td>0</td>\n",
       "      <td>0</td>\n",
       "      <td>0</td>\n",
       "      <td>0</td>\n",
       "      <td>0</td>\n",
       "      <td>1</td>\n",
       "      <td>0</td>\n",
       "      <td>0</td>\n",
       "      <td>0</td>\n",
       "      <td>1</td>\n",
       "      <td>0</td>\n",
       "      <td>1</td>\n",
       "      <td>1</td>\n",
       "      <td>0</td>\n",
       "      <td>0</td>\n",
       "      <td>0</td>\n",
       "      <td>0</td>\n",
       "      <td>0</td>\n",
       "      <td>0</td>\n",
       "      <td>0</td>\n",
       "      <td>0</td>\n",
       "      <td>0</td>\n",
       "      <td>0</td>\n",
       "      <td>1</td>\n",
       "      <td>0</td>\n",
       "      <td>0</td>\n",
       "    </tr>\n",
       "    <tr>\n",
       "      <th>3</th>\n",
       "      <td>2</td>\n",
       "      <td>35</td>\n",
       "      <td>25000</td>\n",
       "      <td>44.99</td>\n",
       "      <td>0.00</td>\n",
       "      <td>0.000</td>\n",
       "      <td>0.00000</td>\n",
       "      <td>29.990</td>\n",
       "      <td>0.00</td>\n",
       "      <td>0.00000</td>\n",
       "      <td>0.00</td>\n",
       "      <td>0.00</td>\n",
       "      <td>0.000</td>\n",
       "      <td>0.00</td>\n",
       "      <td>15.00000</td>\n",
       "      <td>0.00000</td>\n",
       "      <td>5.00000</td>\n",
       "      <td>68.98000</td>\n",
       "      <td>0</td>\n",
       "      <td>1</td>\n",
       "      <td>0</td>\n",
       "      <td>0</td>\n",
       "      <td>0</td>\n",
       "      <td>0</td>\n",
       "      <td>1</td>\n",
       "      <td>0</td>\n",
       "      <td>0</td>\n",
       "      <td>0</td>\n",
       "      <td>0</td>\n",
       "      <td>0</td>\n",
       "      <td>0</td>\n",
       "      <td>0</td>\n",
       "      <td>1</td>\n",
       "      <td>0</td>\n",
       "      <td>0</td>\n",
       "      <td>0</td>\n",
       "      <td>0</td>\n",
       "      <td>0</td>\n",
       "      <td>0</td>\n",
       "      <td>1</td>\n",
       "      <td>0</td>\n",
       "      <td>0</td>\n",
       "      <td>0</td>\n",
       "      <td>1</td>\n",
       "      <td>0</td>\n",
       "      <td>1</td>\n",
       "      <td>0</td>\n",
       "      <td>1</td>\n",
       "      <td>0</td>\n",
       "      <td>0</td>\n",
       "      <td>0</td>\n",
       "      <td>0</td>\n",
       "      <td>0</td>\n",
       "      <td>0</td>\n",
       "      <td>0</td>\n",
       "      <td>0</td>\n",
       "      <td>1</td>\n",
       "      <td>0</td>\n",
       "      <td>0</td>\n",
       "      <td>0</td>\n",
       "      <td>0</td>\n",
       "    </tr>\n",
       "    <tr>\n",
       "      <th>4</th>\n",
       "      <td>0</td>\n",
       "      <td>60</td>\n",
       "      <td>35000</td>\n",
       "      <td>0.00</td>\n",
       "      <td>0.00</td>\n",
       "      <td>0.000</td>\n",
       "      <td>0.00000</td>\n",
       "      <td>0.000</td>\n",
       "      <td>0.00</td>\n",
       "      <td>0.00000</td>\n",
       "      <td>9.98</td>\n",
       "      <td>0.00</td>\n",
       "      <td>0.000</td>\n",
       "      <td>0.00</td>\n",
       "      <td>0.00000</td>\n",
       "      <td>1.66000</td>\n",
       "      <td>1.66000</td>\n",
       "      <td>1.88000</td>\n",
       "      <td>0</td>\n",
       "      <td>1</td>\n",
       "      <td>0</td>\n",
       "      <td>0</td>\n",
       "      <td>0</td>\n",
       "      <td>1</td>\n",
       "      <td>0</td>\n",
       "      <td>0</td>\n",
       "      <td>0</td>\n",
       "      <td>0</td>\n",
       "      <td>0</td>\n",
       "      <td>0</td>\n",
       "      <td>0</td>\n",
       "      <td>0</td>\n",
       "      <td>0</td>\n",
       "      <td>0</td>\n",
       "      <td>1</td>\n",
       "      <td>0</td>\n",
       "      <td>0</td>\n",
       "      <td>0</td>\n",
       "      <td>0</td>\n",
       "      <td>1</td>\n",
       "      <td>0</td>\n",
       "      <td>0</td>\n",
       "      <td>0</td>\n",
       "      <td>1</td>\n",
       "      <td>0</td>\n",
       "      <td>1</td>\n",
       "      <td>0</td>\n",
       "      <td>1</td>\n",
       "      <td>0</td>\n",
       "      <td>0</td>\n",
       "      <td>0</td>\n",
       "      <td>0</td>\n",
       "      <td>0</td>\n",
       "      <td>0</td>\n",
       "      <td>0</td>\n",
       "      <td>0</td>\n",
       "      <td>0</td>\n",
       "      <td>1</td>\n",
       "      <td>0</td>\n",
       "      <td>0</td>\n",
       "      <td>0</td>\n",
       "    </tr>\n",
       "  </tbody>\n",
       "</table>\n",
       "</div>"
      ],
      "text/plain": [
       "   children  age_band  family_income  Average_Credit_Card_Transaction  \\\n",
       "0         2        35          35000                            26.98   \n",
       "1         0        50          35000                            35.98   \n",
       "2         1        40          22500                             0.00   \n",
       "3         2        35          25000                            44.99   \n",
       "4         0        60          35000                             0.00   \n",
       "\n",
       "   Balance_Transfer  Term_Deposit  Life_Insurance  Medical_Insurance  \\\n",
       "0             29.99        86.225       232.21875             67.425   \n",
       "1             74.48         0.000        99.96000             10.990   \n",
       "2             24.46         0.000        18.44000              0.000   \n",
       "3              0.00         0.000         0.00000             29.990   \n",
       "4              0.00         0.000         0.00000              0.000   \n",
       "\n",
       "   Average_A/C_Balance  Personal_Loan  Investment_in_Mutual_Fund  \\\n",
       "0               108.85       52.06875                     134.35   \n",
       "1                48.45       15.99000                       0.00   \n",
       "2                 0.00        0.02000                      10.46   \n",
       "3                 0.00        0.00000                       0.00   \n",
       "4                 0.00        0.00000                       9.98   \n",
       "\n",
       "   Investment_Tax_Saving_Bond  Home_Loan  Online_Purchase_Amount  \\\n",
       "0                        8.98     11.225                    7.68   \n",
       "1                        0.00      0.000                   18.70   \n",
       "2                        0.00      0.000                    0.00   \n",
       "3                        0.00      0.000                    0.00   \n",
       "4                        0.00      0.000                    0.00   \n",
       "\n",
       "   Investment_in_Commudity  Investment_in_Equity  Investment_in_Derivative  \\\n",
       "0                112.06375              62.94125                  92.87125   \n",
       "1                 44.28000              13.91000                  29.23000   \n",
       "2                  8.58000               1.75000                   4.82000   \n",
       "3                 15.00000               0.00000                   5.00000   \n",
       "4                  0.00000               1.66000                   1.66000   \n",
       "\n",
       "   Portfolio_Balance  status_Divorced/Separated  status_Partner  \\\n",
       "0          270.50875                          0               1   \n",
       "1           89.22000                          0               1   \n",
       "2           14.50000                          0               1   \n",
       "3           68.98000                          0               1   \n",
       "4            1.88000                          0               1   \n",
       "\n",
       "   status_Single/Never Married  status_Widowed  occupation_Business Manager  \\\n",
       "0                            0               0                            0   \n",
       "1                            0               0                            0   \n",
       "2                            0               0                            0   \n",
       "3                            0               0                            0   \n",
       "4                            0               0                            0   \n",
       "\n",
       "   occupation_Housewife  occupation_Manual Worker  occupation_Other  \\\n",
       "0                     0                         0                 0   \n",
       "1                     0                         0                 0   \n",
       "2                     0                         1                 0   \n",
       "3                     0                         1                 0   \n",
       "4                     1                         0                 0   \n",
       "\n",
       "   occupation_Professional  occupation_Retired  occupation_Secretarial/Admin  \\\n",
       "0                        1                   0                             0   \n",
       "1                        0                   0                             1   \n",
       "2                        0                   0                             0   \n",
       "3                        0                   0                             0   \n",
       "4                        0                   0                             0   \n",
       "\n",
       "   occupation_Student  occupation_partner_Business Manager  \\\n",
       "0                   0                                    0   \n",
       "1                   0                                    0   \n",
       "2                   0                                    0   \n",
       "3                   0                                    0   \n",
       "4                   0                                    0   \n",
       "\n",
       "   occupation_partner_Housewife  occupation_partner_Manual Worker  \\\n",
       "0                             0                                 0   \n",
       "1                             0                                 0   \n",
       "2                             0                                 1   \n",
       "3                             0                                 1   \n",
       "4                             0                                 0   \n",
       "\n",
       "   occupation_partner_Other  occupation_partner_Professional  \\\n",
       "0                         0                                1   \n",
       "1                         0                                1   \n",
       "2                         0                                0   \n",
       "3                         0                                0   \n",
       "4                         0                                1   \n",
       "\n",
       "   occupation_partner_Retired  occupation_partner_Secretarial/Admin  \\\n",
       "0                           0                                     0   \n",
       "1                           0                                     0   \n",
       "2                           0                                     0   \n",
       "3                           0                                     0   \n",
       "4                           0                                     0   \n",
       "\n",
       "   occupation_partner_Student  home_status_Live in Parental Hom  \\\n",
       "0                           0                                 0   \n",
       "1                           0                                 0   \n",
       "2                           0                                 0   \n",
       "3                           0                                 0   \n",
       "4                           0                                 0   \n",
       "\n",
       "   home_status_Own Home  home_status_Rent Privately  \\\n",
       "0                     1                           0   \n",
       "1                     1                           0   \n",
       "2                     0                           1   \n",
       "3                     1                           0   \n",
       "4                     1                           0   \n",
       "\n",
       "   home_status_Rent from Council/HA  home_status_Unclassified  \\\n",
       "0                                 0                         0   \n",
       "1                                 0                         0   \n",
       "2                                 0                         0   \n",
       "3                                 0                         0   \n",
       "4                                 0                         0   \n",
       "\n",
       "   self_employed_No  self_employed_Yes  self_employed_partner_No  \\\n",
       "0                 1                  0                         1   \n",
       "1                 1                  0                         1   \n",
       "2                 0                  1                         0   \n",
       "3                 1                  0                         1   \n",
       "4                 1                  0                         1   \n",
       "\n",
       "   self_employed_partner_Yes  gender_Female  gender_Male  \\\n",
       "0                          0              1            0   \n",
       "1                          0              1            0   \n",
       "2                          1              1            0   \n",
       "3                          0              1            0   \n",
       "4                          0              1            0   \n",
       "\n",
       "   region_Channel Islands  region_East Anglia  region_East Midlands  \\\n",
       "0                       0                   0                     0   \n",
       "1                       0                   0                     0   \n",
       "2                       0                   0                     0   \n",
       "3                       0                   0                     0   \n",
       "4                       0                   0                     0   \n",
       "\n",
       "   region_Isle of Man  region_North  region_North West  \\\n",
       "0                   0             0                  1   \n",
       "1                   0             0                  1   \n",
       "2                   0             0                  0   \n",
       "3                   0             0                  0   \n",
       "4                   0             0                  0   \n",
       "\n",
       "   region_Northern Ireland  region_Scotland  region_South East  \\\n",
       "0                        0                0                  0   \n",
       "1                        0                0                  0   \n",
       "2                        0                0                  0   \n",
       "3                        0                1                  0   \n",
       "4                        0                0                  1   \n",
       "\n",
       "   region_South West  region_Wales  region_West Midlands  \n",
       "0                  0             0                     0  \n",
       "1                  0             0                     0  \n",
       "2                  1             0                     0  \n",
       "3                  0             0                     0  \n",
       "4                  0             0                     0  "
      ]
     },
     "execution_count": 220,
     "metadata": {},
     "output_type": "execute_result"
    }
   ],
   "source": [
    "encoded_cols.head()"
   ]
  },
  {
   "cell_type": "markdown",
   "id": "ce0c6074",
   "metadata": {},
   "source": [
    "#### Using min max scaler for numerical columns"
   ]
  },
  {
   "cell_type": "code",
   "execution_count": 241,
   "id": "9f756667",
   "metadata": {
    "ExecuteTime": {
     "end_time": "2023-10-15T21:04:28.237052Z",
     "start_time": "2023-10-15T21:04:28.225069Z"
    }
   },
   "outputs": [],
   "source": [
    "num_cols=x_main[['Average_Credit_Card_Transaction', 'Balance_Transfer', 'Term_Deposit',\n",
    "       'Life_Insurance', 'Medical_Insurance', 'Average_A/C_Balance',\n",
    "       'Personal_Loan', 'Investment_in_Mutual_Fund',\n",
    "       'Investment_Tax_Saving_Bond', 'Home_Loan', 'Online_Purchase_Amount',\n",
    "        'Investment_in_Commudity', 'Investment_in_Equity',\n",
    "       'Investment_in_Derivative', 'Portfolio_Balance','family_income','age_band']]"
   ]
  },
  {
   "cell_type": "code",
   "execution_count": 242,
   "id": "65149a4d",
   "metadata": {
    "ExecuteTime": {
     "end_time": "2023-10-15T21:04:28.389756Z",
     "start_time": "2023-10-15T21:04:28.377736Z"
    }
   },
   "outputs": [],
   "source": [
    "mm=MinMaxScaler()\n",
    "scaled_num_cols = mm.fit_transform(num_cols)\n",
    "scaled_num_cols = pd.DataFrame(scaled_num_cols,columns=num_cols.columns,index = num_cols.index)"
   ]
  },
  {
   "cell_type": "code",
   "execution_count": 243,
   "id": "4cb22c0a",
   "metadata": {
    "ExecuteTime": {
     "end_time": "2023-10-15T21:04:28.932512Z",
     "start_time": "2023-10-15T21:04:28.908542Z"
    }
   },
   "outputs": [
    {
     "data": {
      "text/html": [
       "<div>\n",
       "<style scoped>\n",
       "    .dataframe tbody tr th:only-of-type {\n",
       "        vertical-align: middle;\n",
       "    }\n",
       "\n",
       "    .dataframe tbody tr th {\n",
       "        vertical-align: top;\n",
       "    }\n",
       "\n",
       "    .dataframe thead th {\n",
       "        text-align: right;\n",
       "    }\n",
       "</style>\n",
       "<table border=\"1\" class=\"dataframe\">\n",
       "  <thead>\n",
       "    <tr style=\"text-align: right;\">\n",
       "      <th></th>\n",
       "      <th>Average_Credit_Card_Transaction</th>\n",
       "      <th>Balance_Transfer</th>\n",
       "      <th>Term_Deposit</th>\n",
       "      <th>Life_Insurance</th>\n",
       "      <th>Medical_Insurance</th>\n",
       "      <th>Average_A/C_Balance</th>\n",
       "      <th>Personal_Loan</th>\n",
       "      <th>Investment_in_Mutual_Fund</th>\n",
       "      <th>Investment_Tax_Saving_Bond</th>\n",
       "      <th>Home_Loan</th>\n",
       "      <th>Online_Purchase_Amount</th>\n",
       "      <th>Investment_in_Commudity</th>\n",
       "      <th>Investment_in_Equity</th>\n",
       "      <th>Investment_in_Derivative</th>\n",
       "      <th>Portfolio_Balance</th>\n",
       "      <th>family_income</th>\n",
       "      <th>age_band</th>\n",
       "    </tr>\n",
       "  </thead>\n",
       "  <tbody>\n",
       "    <tr>\n",
       "      <th>0</th>\n",
       "      <td>0.459625</td>\n",
       "      <td>0.184582</td>\n",
       "      <td>1.0</td>\n",
       "      <td>1.000000</td>\n",
       "      <td>1.000000</td>\n",
       "      <td>0.948119</td>\n",
       "      <td>1.000000</td>\n",
       "      <td>0.904105</td>\n",
       "      <td>0.654281</td>\n",
       "      <td>1.0</td>\n",
       "      <td>0.410695</td>\n",
       "      <td>1.000000</td>\n",
       "      <td>1.000000</td>\n",
       "      <td>1.000000</td>\n",
       "      <td>1.000000</td>\n",
       "      <td>1.000000</td>\n",
       "      <td>0.28</td>\n",
       "    </tr>\n",
       "    <tr>\n",
       "      <th>1</th>\n",
       "      <td>0.612947</td>\n",
       "      <td>0.458409</td>\n",
       "      <td>0.0</td>\n",
       "      <td>0.430456</td>\n",
       "      <td>0.162996</td>\n",
       "      <td>0.422015</td>\n",
       "      <td>0.307094</td>\n",
       "      <td>0.000000</td>\n",
       "      <td>0.000000</td>\n",
       "      <td>0.0</td>\n",
       "      <td>1.000000</td>\n",
       "      <td>0.395132</td>\n",
       "      <td>0.221000</td>\n",
       "      <td>0.314737</td>\n",
       "      <td>0.480457</td>\n",
       "      <td>1.000000</td>\n",
       "      <td>0.58</td>\n",
       "    </tr>\n",
       "    <tr>\n",
       "      <th>2</th>\n",
       "      <td>0.000000</td>\n",
       "      <td>0.150546</td>\n",
       "      <td>0.0</td>\n",
       "      <td>0.079408</td>\n",
       "      <td>0.000000</td>\n",
       "      <td>0.000000</td>\n",
       "      <td>0.000384</td>\n",
       "      <td>0.070390</td>\n",
       "      <td>0.000000</td>\n",
       "      <td>0.0</td>\n",
       "      <td>0.000000</td>\n",
       "      <td>0.076564</td>\n",
       "      <td>0.027804</td>\n",
       "      <td>0.051900</td>\n",
       "      <td>0.266322</td>\n",
       "      <td>0.596774</td>\n",
       "      <td>0.38</td>\n",
       "    </tr>\n",
       "    <tr>\n",
       "      <th>3</th>\n",
       "      <td>0.766440</td>\n",
       "      <td>0.000000</td>\n",
       "      <td>0.0</td>\n",
       "      <td>0.000000</td>\n",
       "      <td>0.444791</td>\n",
       "      <td>0.000000</td>\n",
       "      <td>0.000000</td>\n",
       "      <td>0.000000</td>\n",
       "      <td>0.000000</td>\n",
       "      <td>0.0</td>\n",
       "      <td>0.000000</td>\n",
       "      <td>0.133852</td>\n",
       "      <td>0.000000</td>\n",
       "      <td>0.053838</td>\n",
       "      <td>0.422452</td>\n",
       "      <td>0.677419</td>\n",
       "      <td>0.28</td>\n",
       "    </tr>\n",
       "    <tr>\n",
       "      <th>4</th>\n",
       "      <td>0.000000</td>\n",
       "      <td>0.000000</td>\n",
       "      <td>0.0</td>\n",
       "      <td>0.000000</td>\n",
       "      <td>0.000000</td>\n",
       "      <td>0.000000</td>\n",
       "      <td>0.000000</td>\n",
       "      <td>0.067160</td>\n",
       "      <td>0.000000</td>\n",
       "      <td>0.0</td>\n",
       "      <td>0.000000</td>\n",
       "      <td>0.000000</td>\n",
       "      <td>0.026374</td>\n",
       "      <td>0.017874</td>\n",
       "      <td>0.230155</td>\n",
       "      <td>1.000000</td>\n",
       "      <td>0.78</td>\n",
       "    </tr>\n",
       "  </tbody>\n",
       "</table>\n",
       "</div>"
      ],
      "text/plain": [
       "   Average_Credit_Card_Transaction  Balance_Transfer  Term_Deposit  \\\n",
       "0                         0.459625          0.184582           1.0   \n",
       "1                         0.612947          0.458409           0.0   \n",
       "2                         0.000000          0.150546           0.0   \n",
       "3                         0.766440          0.000000           0.0   \n",
       "4                         0.000000          0.000000           0.0   \n",
       "\n",
       "   Life_Insurance  Medical_Insurance  Average_A/C_Balance  Personal_Loan  \\\n",
       "0        1.000000           1.000000             0.948119       1.000000   \n",
       "1        0.430456           0.162996             0.422015       0.307094   \n",
       "2        0.079408           0.000000             0.000000       0.000384   \n",
       "3        0.000000           0.444791             0.000000       0.000000   \n",
       "4        0.000000           0.000000             0.000000       0.000000   \n",
       "\n",
       "   Investment_in_Mutual_Fund  Investment_Tax_Saving_Bond  Home_Loan  \\\n",
       "0                   0.904105                    0.654281        1.0   \n",
       "1                   0.000000                    0.000000        0.0   \n",
       "2                   0.070390                    0.000000        0.0   \n",
       "3                   0.000000                    0.000000        0.0   \n",
       "4                   0.067160                    0.000000        0.0   \n",
       "\n",
       "   Online_Purchase_Amount  Investment_in_Commudity  Investment_in_Equity  \\\n",
       "0                0.410695                 1.000000              1.000000   \n",
       "1                1.000000                 0.395132              0.221000   \n",
       "2                0.000000                 0.076564              0.027804   \n",
       "3                0.000000                 0.133852              0.000000   \n",
       "4                0.000000                 0.000000              0.026374   \n",
       "\n",
       "   Investment_in_Derivative  Portfolio_Balance  family_income  age_band  \n",
       "0                  1.000000           1.000000       1.000000      0.28  \n",
       "1                  0.314737           0.480457       1.000000      0.58  \n",
       "2                  0.051900           0.266322       0.596774      0.38  \n",
       "3                  0.053838           0.422452       0.677419      0.28  \n",
       "4                  0.017874           0.230155       1.000000      0.78  "
      ]
     },
     "execution_count": 243,
     "metadata": {},
     "output_type": "execute_result"
    }
   ],
   "source": [
    "scaled_num_cols.head()"
   ]
  },
  {
   "cell_type": "code",
   "execution_count": 244,
   "id": "b70fcae1",
   "metadata": {
    "ExecuteTime": {
     "end_time": "2023-10-15T21:04:30.613312Z",
     "start_time": "2023-10-15T21:04:30.597369Z"
    }
   },
   "outputs": [],
   "source": [
    "for x in num_cols.columns:\n",
    "    encoded_cols[x] = scaled_num_cols[x]"
   ]
  },
  {
   "cell_type": "code",
   "execution_count": 245,
   "id": "7bd8b831",
   "metadata": {
    "ExecuteTime": {
     "end_time": "2023-10-15T21:04:30.806005Z",
     "start_time": "2023-10-15T21:04:30.766056Z"
    }
   },
   "outputs": [
    {
     "data": {
      "text/html": [
       "<div>\n",
       "<style scoped>\n",
       "    .dataframe tbody tr th:only-of-type {\n",
       "        vertical-align: middle;\n",
       "    }\n",
       "\n",
       "    .dataframe tbody tr th {\n",
       "        vertical-align: top;\n",
       "    }\n",
       "\n",
       "    .dataframe thead th {\n",
       "        text-align: right;\n",
       "    }\n",
       "</style>\n",
       "<table border=\"1\" class=\"dataframe\">\n",
       "  <thead>\n",
       "    <tr style=\"text-align: right;\">\n",
       "      <th></th>\n",
       "      <th>children</th>\n",
       "      <th>age_band</th>\n",
       "      <th>family_income</th>\n",
       "      <th>Average_Credit_Card_Transaction</th>\n",
       "      <th>Balance_Transfer</th>\n",
       "      <th>Term_Deposit</th>\n",
       "      <th>Life_Insurance</th>\n",
       "      <th>Medical_Insurance</th>\n",
       "      <th>Average_A/C_Balance</th>\n",
       "      <th>Personal_Loan</th>\n",
       "      <th>Investment_in_Mutual_Fund</th>\n",
       "      <th>Investment_Tax_Saving_Bond</th>\n",
       "      <th>Home_Loan</th>\n",
       "      <th>Online_Purchase_Amount</th>\n",
       "      <th>Investment_in_Commudity</th>\n",
       "      <th>Investment_in_Equity</th>\n",
       "      <th>Investment_in_Derivative</th>\n",
       "      <th>Portfolio_Balance</th>\n",
       "      <th>status_Divorced/Separated</th>\n",
       "      <th>status_Partner</th>\n",
       "      <th>status_Single/Never Married</th>\n",
       "      <th>status_Widowed</th>\n",
       "      <th>occupation_Business Manager</th>\n",
       "      <th>occupation_Housewife</th>\n",
       "      <th>occupation_Manual Worker</th>\n",
       "      <th>occupation_Other</th>\n",
       "      <th>occupation_Professional</th>\n",
       "      <th>occupation_Retired</th>\n",
       "      <th>occupation_Secretarial/Admin</th>\n",
       "      <th>occupation_Student</th>\n",
       "      <th>occupation_partner_Business Manager</th>\n",
       "      <th>occupation_partner_Housewife</th>\n",
       "      <th>occupation_partner_Manual Worker</th>\n",
       "      <th>occupation_partner_Other</th>\n",
       "      <th>occupation_partner_Professional</th>\n",
       "      <th>occupation_partner_Retired</th>\n",
       "      <th>occupation_partner_Secretarial/Admin</th>\n",
       "      <th>occupation_partner_Student</th>\n",
       "      <th>home_status_Live in Parental Hom</th>\n",
       "      <th>home_status_Own Home</th>\n",
       "      <th>home_status_Rent Privately</th>\n",
       "      <th>home_status_Rent from Council/HA</th>\n",
       "      <th>home_status_Unclassified</th>\n",
       "      <th>self_employed_No</th>\n",
       "      <th>self_employed_Yes</th>\n",
       "      <th>self_employed_partner_No</th>\n",
       "      <th>self_employed_partner_Yes</th>\n",
       "      <th>gender_Female</th>\n",
       "      <th>gender_Male</th>\n",
       "      <th>region_Channel Islands</th>\n",
       "      <th>region_East Anglia</th>\n",
       "      <th>region_East Midlands</th>\n",
       "      <th>region_Isle of Man</th>\n",
       "      <th>region_North</th>\n",
       "      <th>region_North West</th>\n",
       "      <th>region_Northern Ireland</th>\n",
       "      <th>region_Scotland</th>\n",
       "      <th>region_South East</th>\n",
       "      <th>region_South West</th>\n",
       "      <th>region_Wales</th>\n",
       "      <th>region_West Midlands</th>\n",
       "    </tr>\n",
       "  </thead>\n",
       "  <tbody>\n",
       "    <tr>\n",
       "      <th>0</th>\n",
       "      <td>2</td>\n",
       "      <td>0.28</td>\n",
       "      <td>1.000000</td>\n",
       "      <td>0.459625</td>\n",
       "      <td>0.184582</td>\n",
       "      <td>1.0</td>\n",
       "      <td>1.000000</td>\n",
       "      <td>1.000000</td>\n",
       "      <td>0.948119</td>\n",
       "      <td>1.000000</td>\n",
       "      <td>0.904105</td>\n",
       "      <td>0.654281</td>\n",
       "      <td>1.0</td>\n",
       "      <td>0.410695</td>\n",
       "      <td>1.000000</td>\n",
       "      <td>1.000000</td>\n",
       "      <td>1.000000</td>\n",
       "      <td>1.000000</td>\n",
       "      <td>0</td>\n",
       "      <td>1</td>\n",
       "      <td>0</td>\n",
       "      <td>0</td>\n",
       "      <td>0</td>\n",
       "      <td>0</td>\n",
       "      <td>0</td>\n",
       "      <td>0</td>\n",
       "      <td>1</td>\n",
       "      <td>0</td>\n",
       "      <td>0</td>\n",
       "      <td>0</td>\n",
       "      <td>0</td>\n",
       "      <td>0</td>\n",
       "      <td>0</td>\n",
       "      <td>0</td>\n",
       "      <td>1</td>\n",
       "      <td>0</td>\n",
       "      <td>0</td>\n",
       "      <td>0</td>\n",
       "      <td>0</td>\n",
       "      <td>1</td>\n",
       "      <td>0</td>\n",
       "      <td>0</td>\n",
       "      <td>0</td>\n",
       "      <td>1</td>\n",
       "      <td>0</td>\n",
       "      <td>1</td>\n",
       "      <td>0</td>\n",
       "      <td>1</td>\n",
       "      <td>0</td>\n",
       "      <td>0</td>\n",
       "      <td>0</td>\n",
       "      <td>0</td>\n",
       "      <td>0</td>\n",
       "      <td>0</td>\n",
       "      <td>1</td>\n",
       "      <td>0</td>\n",
       "      <td>0</td>\n",
       "      <td>0</td>\n",
       "      <td>0</td>\n",
       "      <td>0</td>\n",
       "      <td>0</td>\n",
       "    </tr>\n",
       "    <tr>\n",
       "      <th>1</th>\n",
       "      <td>0</td>\n",
       "      <td>0.58</td>\n",
       "      <td>1.000000</td>\n",
       "      <td>0.612947</td>\n",
       "      <td>0.458409</td>\n",
       "      <td>0.0</td>\n",
       "      <td>0.430456</td>\n",
       "      <td>0.162996</td>\n",
       "      <td>0.422015</td>\n",
       "      <td>0.307094</td>\n",
       "      <td>0.000000</td>\n",
       "      <td>0.000000</td>\n",
       "      <td>0.0</td>\n",
       "      <td>1.000000</td>\n",
       "      <td>0.395132</td>\n",
       "      <td>0.221000</td>\n",
       "      <td>0.314737</td>\n",
       "      <td>0.480457</td>\n",
       "      <td>0</td>\n",
       "      <td>1</td>\n",
       "      <td>0</td>\n",
       "      <td>0</td>\n",
       "      <td>0</td>\n",
       "      <td>0</td>\n",
       "      <td>0</td>\n",
       "      <td>0</td>\n",
       "      <td>0</td>\n",
       "      <td>0</td>\n",
       "      <td>1</td>\n",
       "      <td>0</td>\n",
       "      <td>0</td>\n",
       "      <td>0</td>\n",
       "      <td>0</td>\n",
       "      <td>0</td>\n",
       "      <td>1</td>\n",
       "      <td>0</td>\n",
       "      <td>0</td>\n",
       "      <td>0</td>\n",
       "      <td>0</td>\n",
       "      <td>1</td>\n",
       "      <td>0</td>\n",
       "      <td>0</td>\n",
       "      <td>0</td>\n",
       "      <td>1</td>\n",
       "      <td>0</td>\n",
       "      <td>1</td>\n",
       "      <td>0</td>\n",
       "      <td>1</td>\n",
       "      <td>0</td>\n",
       "      <td>0</td>\n",
       "      <td>0</td>\n",
       "      <td>0</td>\n",
       "      <td>0</td>\n",
       "      <td>0</td>\n",
       "      <td>1</td>\n",
       "      <td>0</td>\n",
       "      <td>0</td>\n",
       "      <td>0</td>\n",
       "      <td>0</td>\n",
       "      <td>0</td>\n",
       "      <td>0</td>\n",
       "    </tr>\n",
       "    <tr>\n",
       "      <th>2</th>\n",
       "      <td>1</td>\n",
       "      <td>0.38</td>\n",
       "      <td>0.596774</td>\n",
       "      <td>0.000000</td>\n",
       "      <td>0.150546</td>\n",
       "      <td>0.0</td>\n",
       "      <td>0.079408</td>\n",
       "      <td>0.000000</td>\n",
       "      <td>0.000000</td>\n",
       "      <td>0.000384</td>\n",
       "      <td>0.070390</td>\n",
       "      <td>0.000000</td>\n",
       "      <td>0.0</td>\n",
       "      <td>0.000000</td>\n",
       "      <td>0.076564</td>\n",
       "      <td>0.027804</td>\n",
       "      <td>0.051900</td>\n",
       "      <td>0.266322</td>\n",
       "      <td>0</td>\n",
       "      <td>1</td>\n",
       "      <td>0</td>\n",
       "      <td>0</td>\n",
       "      <td>0</td>\n",
       "      <td>0</td>\n",
       "      <td>1</td>\n",
       "      <td>0</td>\n",
       "      <td>0</td>\n",
       "      <td>0</td>\n",
       "      <td>0</td>\n",
       "      <td>0</td>\n",
       "      <td>0</td>\n",
       "      <td>0</td>\n",
       "      <td>1</td>\n",
       "      <td>0</td>\n",
       "      <td>0</td>\n",
       "      <td>0</td>\n",
       "      <td>0</td>\n",
       "      <td>0</td>\n",
       "      <td>0</td>\n",
       "      <td>0</td>\n",
       "      <td>1</td>\n",
       "      <td>0</td>\n",
       "      <td>0</td>\n",
       "      <td>0</td>\n",
       "      <td>1</td>\n",
       "      <td>0</td>\n",
       "      <td>1</td>\n",
       "      <td>1</td>\n",
       "      <td>0</td>\n",
       "      <td>0</td>\n",
       "      <td>0</td>\n",
       "      <td>0</td>\n",
       "      <td>0</td>\n",
       "      <td>0</td>\n",
       "      <td>0</td>\n",
       "      <td>0</td>\n",
       "      <td>0</td>\n",
       "      <td>0</td>\n",
       "      <td>1</td>\n",
       "      <td>0</td>\n",
       "      <td>0</td>\n",
       "    </tr>\n",
       "    <tr>\n",
       "      <th>3</th>\n",
       "      <td>2</td>\n",
       "      <td>0.28</td>\n",
       "      <td>0.677419</td>\n",
       "      <td>0.766440</td>\n",
       "      <td>0.000000</td>\n",
       "      <td>0.0</td>\n",
       "      <td>0.000000</td>\n",
       "      <td>0.444791</td>\n",
       "      <td>0.000000</td>\n",
       "      <td>0.000000</td>\n",
       "      <td>0.000000</td>\n",
       "      <td>0.000000</td>\n",
       "      <td>0.0</td>\n",
       "      <td>0.000000</td>\n",
       "      <td>0.133852</td>\n",
       "      <td>0.000000</td>\n",
       "      <td>0.053838</td>\n",
       "      <td>0.422452</td>\n",
       "      <td>0</td>\n",
       "      <td>1</td>\n",
       "      <td>0</td>\n",
       "      <td>0</td>\n",
       "      <td>0</td>\n",
       "      <td>0</td>\n",
       "      <td>1</td>\n",
       "      <td>0</td>\n",
       "      <td>0</td>\n",
       "      <td>0</td>\n",
       "      <td>0</td>\n",
       "      <td>0</td>\n",
       "      <td>0</td>\n",
       "      <td>0</td>\n",
       "      <td>1</td>\n",
       "      <td>0</td>\n",
       "      <td>0</td>\n",
       "      <td>0</td>\n",
       "      <td>0</td>\n",
       "      <td>0</td>\n",
       "      <td>0</td>\n",
       "      <td>1</td>\n",
       "      <td>0</td>\n",
       "      <td>0</td>\n",
       "      <td>0</td>\n",
       "      <td>1</td>\n",
       "      <td>0</td>\n",
       "      <td>1</td>\n",
       "      <td>0</td>\n",
       "      <td>1</td>\n",
       "      <td>0</td>\n",
       "      <td>0</td>\n",
       "      <td>0</td>\n",
       "      <td>0</td>\n",
       "      <td>0</td>\n",
       "      <td>0</td>\n",
       "      <td>0</td>\n",
       "      <td>0</td>\n",
       "      <td>1</td>\n",
       "      <td>0</td>\n",
       "      <td>0</td>\n",
       "      <td>0</td>\n",
       "      <td>0</td>\n",
       "    </tr>\n",
       "    <tr>\n",
       "      <th>4</th>\n",
       "      <td>0</td>\n",
       "      <td>0.78</td>\n",
       "      <td>1.000000</td>\n",
       "      <td>0.000000</td>\n",
       "      <td>0.000000</td>\n",
       "      <td>0.0</td>\n",
       "      <td>0.000000</td>\n",
       "      <td>0.000000</td>\n",
       "      <td>0.000000</td>\n",
       "      <td>0.000000</td>\n",
       "      <td>0.067160</td>\n",
       "      <td>0.000000</td>\n",
       "      <td>0.0</td>\n",
       "      <td>0.000000</td>\n",
       "      <td>0.000000</td>\n",
       "      <td>0.026374</td>\n",
       "      <td>0.017874</td>\n",
       "      <td>0.230155</td>\n",
       "      <td>0</td>\n",
       "      <td>1</td>\n",
       "      <td>0</td>\n",
       "      <td>0</td>\n",
       "      <td>0</td>\n",
       "      <td>1</td>\n",
       "      <td>0</td>\n",
       "      <td>0</td>\n",
       "      <td>0</td>\n",
       "      <td>0</td>\n",
       "      <td>0</td>\n",
       "      <td>0</td>\n",
       "      <td>0</td>\n",
       "      <td>0</td>\n",
       "      <td>0</td>\n",
       "      <td>0</td>\n",
       "      <td>1</td>\n",
       "      <td>0</td>\n",
       "      <td>0</td>\n",
       "      <td>0</td>\n",
       "      <td>0</td>\n",
       "      <td>1</td>\n",
       "      <td>0</td>\n",
       "      <td>0</td>\n",
       "      <td>0</td>\n",
       "      <td>1</td>\n",
       "      <td>0</td>\n",
       "      <td>1</td>\n",
       "      <td>0</td>\n",
       "      <td>1</td>\n",
       "      <td>0</td>\n",
       "      <td>0</td>\n",
       "      <td>0</td>\n",
       "      <td>0</td>\n",
       "      <td>0</td>\n",
       "      <td>0</td>\n",
       "      <td>0</td>\n",
       "      <td>0</td>\n",
       "      <td>0</td>\n",
       "      <td>1</td>\n",
       "      <td>0</td>\n",
       "      <td>0</td>\n",
       "      <td>0</td>\n",
       "    </tr>\n",
       "  </tbody>\n",
       "</table>\n",
       "</div>"
      ],
      "text/plain": [
       "   children  age_band  family_income  Average_Credit_Card_Transaction  \\\n",
       "0         2      0.28       1.000000                         0.459625   \n",
       "1         0      0.58       1.000000                         0.612947   \n",
       "2         1      0.38       0.596774                         0.000000   \n",
       "3         2      0.28       0.677419                         0.766440   \n",
       "4         0      0.78       1.000000                         0.000000   \n",
       "\n",
       "   Balance_Transfer  Term_Deposit  Life_Insurance  Medical_Insurance  \\\n",
       "0          0.184582           1.0        1.000000           1.000000   \n",
       "1          0.458409           0.0        0.430456           0.162996   \n",
       "2          0.150546           0.0        0.079408           0.000000   \n",
       "3          0.000000           0.0        0.000000           0.444791   \n",
       "4          0.000000           0.0        0.000000           0.000000   \n",
       "\n",
       "   Average_A/C_Balance  Personal_Loan  Investment_in_Mutual_Fund  \\\n",
       "0             0.948119       1.000000                   0.904105   \n",
       "1             0.422015       0.307094                   0.000000   \n",
       "2             0.000000       0.000384                   0.070390   \n",
       "3             0.000000       0.000000                   0.000000   \n",
       "4             0.000000       0.000000                   0.067160   \n",
       "\n",
       "   Investment_Tax_Saving_Bond  Home_Loan  Online_Purchase_Amount  \\\n",
       "0                    0.654281        1.0                0.410695   \n",
       "1                    0.000000        0.0                1.000000   \n",
       "2                    0.000000        0.0                0.000000   \n",
       "3                    0.000000        0.0                0.000000   \n",
       "4                    0.000000        0.0                0.000000   \n",
       "\n",
       "   Investment_in_Commudity  Investment_in_Equity  Investment_in_Derivative  \\\n",
       "0                 1.000000              1.000000                  1.000000   \n",
       "1                 0.395132              0.221000                  0.314737   \n",
       "2                 0.076564              0.027804                  0.051900   \n",
       "3                 0.133852              0.000000                  0.053838   \n",
       "4                 0.000000              0.026374                  0.017874   \n",
       "\n",
       "   Portfolio_Balance  status_Divorced/Separated  status_Partner  \\\n",
       "0           1.000000                          0               1   \n",
       "1           0.480457                          0               1   \n",
       "2           0.266322                          0               1   \n",
       "3           0.422452                          0               1   \n",
       "4           0.230155                          0               1   \n",
       "\n",
       "   status_Single/Never Married  status_Widowed  occupation_Business Manager  \\\n",
       "0                            0               0                            0   \n",
       "1                            0               0                            0   \n",
       "2                            0               0                            0   \n",
       "3                            0               0                            0   \n",
       "4                            0               0                            0   \n",
       "\n",
       "   occupation_Housewife  occupation_Manual Worker  occupation_Other  \\\n",
       "0                     0                         0                 0   \n",
       "1                     0                         0                 0   \n",
       "2                     0                         1                 0   \n",
       "3                     0                         1                 0   \n",
       "4                     1                         0                 0   \n",
       "\n",
       "   occupation_Professional  occupation_Retired  occupation_Secretarial/Admin  \\\n",
       "0                        1                   0                             0   \n",
       "1                        0                   0                             1   \n",
       "2                        0                   0                             0   \n",
       "3                        0                   0                             0   \n",
       "4                        0                   0                             0   \n",
       "\n",
       "   occupation_Student  occupation_partner_Business Manager  \\\n",
       "0                   0                                    0   \n",
       "1                   0                                    0   \n",
       "2                   0                                    0   \n",
       "3                   0                                    0   \n",
       "4                   0                                    0   \n",
       "\n",
       "   occupation_partner_Housewife  occupation_partner_Manual Worker  \\\n",
       "0                             0                                 0   \n",
       "1                             0                                 0   \n",
       "2                             0                                 1   \n",
       "3                             0                                 1   \n",
       "4                             0                                 0   \n",
       "\n",
       "   occupation_partner_Other  occupation_partner_Professional  \\\n",
       "0                         0                                1   \n",
       "1                         0                                1   \n",
       "2                         0                                0   \n",
       "3                         0                                0   \n",
       "4                         0                                1   \n",
       "\n",
       "   occupation_partner_Retired  occupation_partner_Secretarial/Admin  \\\n",
       "0                           0                                     0   \n",
       "1                           0                                     0   \n",
       "2                           0                                     0   \n",
       "3                           0                                     0   \n",
       "4                           0                                     0   \n",
       "\n",
       "   occupation_partner_Student  home_status_Live in Parental Hom  \\\n",
       "0                           0                                 0   \n",
       "1                           0                                 0   \n",
       "2                           0                                 0   \n",
       "3                           0                                 0   \n",
       "4                           0                                 0   \n",
       "\n",
       "   home_status_Own Home  home_status_Rent Privately  \\\n",
       "0                     1                           0   \n",
       "1                     1                           0   \n",
       "2                     0                           1   \n",
       "3                     1                           0   \n",
       "4                     1                           0   \n",
       "\n",
       "   home_status_Rent from Council/HA  home_status_Unclassified  \\\n",
       "0                                 0                         0   \n",
       "1                                 0                         0   \n",
       "2                                 0                         0   \n",
       "3                                 0                         0   \n",
       "4                                 0                         0   \n",
       "\n",
       "   self_employed_No  self_employed_Yes  self_employed_partner_No  \\\n",
       "0                 1                  0                         1   \n",
       "1                 1                  0                         1   \n",
       "2                 0                  1                         0   \n",
       "3                 1                  0                         1   \n",
       "4                 1                  0                         1   \n",
       "\n",
       "   self_employed_partner_Yes  gender_Female  gender_Male  \\\n",
       "0                          0              1            0   \n",
       "1                          0              1            0   \n",
       "2                          1              1            0   \n",
       "3                          0              1            0   \n",
       "4                          0              1            0   \n",
       "\n",
       "   region_Channel Islands  region_East Anglia  region_East Midlands  \\\n",
       "0                       0                   0                     0   \n",
       "1                       0                   0                     0   \n",
       "2                       0                   0                     0   \n",
       "3                       0                   0                     0   \n",
       "4                       0                   0                     0   \n",
       "\n",
       "   region_Isle of Man  region_North  region_North West  \\\n",
       "0                   0             0                  1   \n",
       "1                   0             0                  1   \n",
       "2                   0             0                  0   \n",
       "3                   0             0                  0   \n",
       "4                   0             0                  0   \n",
       "\n",
       "   region_Northern Ireland  region_Scotland  region_South East  \\\n",
       "0                        0                0                  0   \n",
       "1                        0                0                  0   \n",
       "2                        0                0                  0   \n",
       "3                        0                1                  0   \n",
       "4                        0                0                  1   \n",
       "\n",
       "   region_South West  region_Wales  region_West Midlands  \n",
       "0                  0             0                     0  \n",
       "1                  0             0                     0  \n",
       "2                  1             0                     0  \n",
       "3                  0             0                     0  \n",
       "4                  0             0                     0  "
      ]
     },
     "execution_count": 245,
     "metadata": {},
     "output_type": "execute_result"
    }
   ],
   "source": [
    "encoded_cols.head()"
   ]
  },
  {
   "cell_type": "markdown",
   "id": "71f944ee",
   "metadata": {
    "id": "D8SdtiRFM-k1"
   },
   "source": [
    "#### Train Test Split-Model"
   ]
  },
  {
   "cell_type": "code",
   "execution_count": 247,
   "id": "b77c980c",
   "metadata": {
    "ExecuteTime": {
     "end_time": "2023-10-15T21:05:26.542879Z",
     "start_time": "2023-10-15T21:05:26.530889Z"
    },
    "id": "BeDKRY3IM3jf"
   },
   "outputs": [],
   "source": [
    "from sklearn.model_selection import train_test_split\n",
    "X_train,X_test,y_train,y_test=train_test_split(encoded_cols,y_main,test_size=0.25)"
   ]
  },
  {
   "cell_type": "code",
   "execution_count": 248,
   "id": "ed75226c",
   "metadata": {
    "ExecuteTime": {
     "end_time": "2023-10-15T21:05:27.812686Z",
     "start_time": "2023-10-15T21:05:27.796705Z"
    },
    "colab": {
     "base_uri": "https://localhost:8080/"
    },
    "id": "MXMc-r2NP_H8",
    "outputId": "b6ce7a21-ef5e-4b7c-b8e4-349d7e6a0f31"
   },
   "outputs": [
    {
     "data": {
      "text/plain": [
       "((6093, 61), (2031, 61), (6093,), (2031,))"
      ]
     },
     "execution_count": 248,
     "metadata": {},
     "output_type": "execute_result"
    }
   ],
   "source": [
    "X_train.shape,X_test.shape,y_train.shape,y_test.shape"
   ]
  },
  {
   "cell_type": "markdown",
   "id": "3fd5d772",
   "metadata": {},
   "source": [
    "#### Logistic regression"
   ]
  },
  {
   "cell_type": "code",
   "execution_count": 255,
   "id": "A9TlsgFRoGim",
   "metadata": {
    "ExecuteTime": {
     "end_time": "2023-10-15T21:14:43.536340Z",
     "start_time": "2023-10-15T21:14:43.388398Z"
    },
    "colab": {
     "base_uri": "https://localhost:8080/"
    },
    "id": "A9TlsgFRoGim",
    "outputId": "12d98089-288a-4036-dd20-2ea4811ca5a4"
   },
   "outputs": [],
   "source": [
    "logreg=LogisticRegression(max_iter=1000)\n",
    "model = logreg.fit(X_train,y_train)"
   ]
  },
  {
   "cell_type": "code",
   "execution_count": 256,
   "id": "3-lG_D1xORRZ",
   "metadata": {
    "ExecuteTime": {
     "end_time": "2023-10-15T21:14:45.963809Z",
     "start_time": "2023-10-15T21:14:45.943836Z"
    },
    "id": "3-lG_D1xORRZ"
   },
   "outputs": [],
   "source": [
    "y_pred_train=model.predict(X_train)\n",
    "y_pred_test=model.predict(X_test)"
   ]
  },
  {
   "cell_type": "code",
   "execution_count": 257,
   "id": "4_NJkIMXpRH0",
   "metadata": {
    "ExecuteTime": {
     "end_time": "2023-10-15T21:17:29.489523Z",
     "start_time": "2023-10-15T21:17:29.461593Z"
    },
    "colab": {
     "base_uri": "https://localhost:8080/"
    },
    "id": "4_NJkIMXpRH0",
    "outputId": "93ddafd0-8cb4-4e17-f013-2f50bc79c42f"
   },
   "outputs": [],
   "source": [
    "f1_log_train = f1_score(y_train, y_pred_train)\n",
    "f1_log_test = f1_score(y_test, y_pred_test)\n",
    "acc_log_train = accuracy_score(y_train, y_pred_train)\n",
    "acc_log_test = accuracy_score(y_test, y_pred_test)\n",
    "recall_log_train = recall_score(y_train, y_pred_train)\n",
    "recall_log_test = recall_score(y_test, y_pred_test)\n",
    "precision_log_train = precision_score(y_train, y_pred_train)\n",
    "precision_log_test = precision_score(y_test, y_pred_test)"
   ]
  },
  {
   "cell_type": "code",
   "execution_count": 258,
   "id": "c73a20e0",
   "metadata": {
    "ExecuteTime": {
     "end_time": "2023-10-15T21:17:36.670580Z",
     "start_time": "2023-10-15T21:17:36.658595Z"
    }
   },
   "outputs": [
    {
     "data": {
      "text/plain": [
       "(0.40997830802603036, 0.3525641025641026)"
      ]
     },
     "execution_count": 258,
     "metadata": {},
     "output_type": "execute_result"
    }
   ],
   "source": [
    "f1_log_train,f1_log_test"
   ]
  },
  {
   "cell_type": "code",
   "execution_count": 259,
   "id": "128b4d10",
   "metadata": {
    "ExecuteTime": {
     "end_time": "2023-10-15T21:17:47.545545Z",
     "start_time": "2023-10-15T21:17:47.533526Z"
    }
   },
   "outputs": [
    {
     "data": {
      "text/plain": [
       "(0.9107172164779255, 0.9005416051206302)"
      ]
     },
     "execution_count": 259,
     "metadata": {},
     "output_type": "execute_result"
    }
   ],
   "source": [
    "acc_log_train,acc_log_test"
   ]
  },
  {
   "cell_type": "code",
   "execution_count": 261,
   "id": "ce65efb5",
   "metadata": {
    "ExecuteTime": {
     "end_time": "2023-10-15T21:18:00.873759Z",
     "start_time": "2023-10-15T21:18:00.865769Z"
    }
   },
   "outputs": [
    {
     "data": {
      "text/plain": [
       "(0.29763779527559053, 0.24444444444444444)"
      ]
     },
     "execution_count": 261,
     "metadata": {},
     "output_type": "execute_result"
    }
   ],
   "source": [
    "recall_log_train,recall_log_test"
   ]
  },
  {
   "cell_type": "code",
   "execution_count": 262,
   "id": "ab8e3109",
   "metadata": {
    "ExecuteTime": {
     "end_time": "2023-10-15T21:18:13.179831Z",
     "start_time": "2023-10-15T21:18:13.163854Z"
    }
   },
   "outputs": [
    {
     "data": {
      "text/plain": [
       "(0.6585365853658537, 0.632183908045977)"
      ]
     },
     "execution_count": 262,
     "metadata": {},
     "output_type": "execute_result"
    }
   ],
   "source": [
    "precision_log_train,precision_log_test"
   ]
  },
  {
   "cell_type": "markdown",
   "id": "6128c9a5",
   "metadata": {},
   "source": [
    "#### KNN Classifier"
   ]
  },
  {
   "cell_type": "code",
   "execution_count": 265,
   "id": "f05c6cde",
   "metadata": {
    "ExecuteTime": {
     "end_time": "2023-10-15T21:19:49.977642Z",
     "start_time": "2023-10-15T21:19:49.965657Z"
    }
   },
   "outputs": [],
   "source": [
    "knn = KNeighborsClassifier()\n",
    "model = knn.fit(X_train,y_train)"
   ]
  },
  {
   "cell_type": "code",
   "execution_count": 266,
   "id": "66c7b160",
   "metadata": {
    "ExecuteTime": {
     "end_time": "2023-10-15T21:19:55.190830Z",
     "start_time": "2023-10-15T21:19:53.836639Z"
    },
    "id": "3-lG_D1xORRZ"
   },
   "outputs": [],
   "source": [
    "y_pred_train=model.predict(X_train)\n",
    "y_pred_test=model.predict(X_test)"
   ]
  },
  {
   "cell_type": "code",
   "execution_count": 267,
   "id": "4_NJkIMXpRH0",
   "metadata": {
    "ExecuteTime": {
     "end_time": "2023-10-15T21:20:24.763137Z",
     "start_time": "2023-10-15T21:20:24.743124Z"
    },
    "colab": {
     "base_uri": "https://localhost:8080/"
    },
    "id": "4_NJkIMXpRH0",
    "outputId": "93ddafd0-8cb4-4e17-f013-2f50bc79c42f"
   },
   "outputs": [],
   "source": [
    "f1_knn_train = f1_score(y_train, y_pred_train)\n",
    "f1_knn_test = f1_score(y_test, y_pred_test)\n",
    "acc_knn_train = accuracy_score(y_train, y_pred_train)\n",
    "acc_knn_test = accuracy_score(y_test, y_pred_test)\n",
    "recall_knn_train = recall_score(y_train, y_pred_train)\n",
    "recall_knn_test = recall_score(y_test, y_pred_test)\n",
    "precision_knn_train = precision_score(y_train, y_pred_train)\n",
    "precision_knn_test = precision_score(y_test, y_pred_test)"
   ]
  },
  {
   "cell_type": "code",
   "execution_count": 268,
   "id": "6ff8bf50",
   "metadata": {
    "ExecuteTime": {
     "end_time": "2023-10-15T21:20:31.052014Z",
     "start_time": "2023-10-15T21:20:31.044026Z"
    }
   },
   "outputs": [
    {
     "data": {
      "text/plain": [
       "(0.25882352941176473, 0.13533834586466167)"
      ]
     },
     "execution_count": 268,
     "metadata": {},
     "output_type": "execute_result"
    }
   ],
   "source": [
    "f1_knn_train,f1_knn_test"
   ]
  },
  {
   "cell_type": "code",
   "execution_count": 269,
   "id": "0cd3092e",
   "metadata": {
    "ExecuteTime": {
     "end_time": "2023-10-15T21:20:37.777314Z",
     "start_time": "2023-10-15T21:20:37.761300Z"
    }
   },
   "outputs": [
    {
     "data": {
      "text/plain": [
       "(0.9069423929098966, 0.8867552929591335)"
      ]
     },
     "execution_count": 269,
     "metadata": {},
     "output_type": "execute_result"
    }
   ],
   "source": [
    "acc_knn_train,acc_knn_test"
   ]
  },
  {
   "cell_type": "code",
   "execution_count": 270,
   "id": "e08a5976",
   "metadata": {
    "ExecuteTime": {
     "end_time": "2023-10-15T21:20:45.269788Z",
     "start_time": "2023-10-15T21:20:45.257804Z"
    }
   },
   "outputs": [
    {
     "data": {
      "text/plain": [
       "(0.15590551181102363, 0.08)"
      ]
     },
     "execution_count": 270,
     "metadata": {},
     "output_type": "execute_result"
    }
   ],
   "source": [
    "recall_knn_train,recall_knn_test"
   ]
  },
  {
   "cell_type": "code",
   "execution_count": 271,
   "id": "ffbff6b4",
   "metadata": {
    "ExecuteTime": {
     "end_time": "2023-10-15T21:20:53.479114Z",
     "start_time": "2023-10-15T21:20:53.463133Z"
    }
   },
   "outputs": [
    {
     "data": {
      "text/plain": [
       "(0.7615384615384615, 0.43902439024390244)"
      ]
     },
     "execution_count": 271,
     "metadata": {},
     "output_type": "execute_result"
    }
   ],
   "source": [
    "precision_knn_train,precision_knn_test"
   ]
  },
  {
   "cell_type": "markdown",
   "id": "98c6d702",
   "metadata": {
    "ExecuteTime": {
     "end_time": "2023-10-15T21:23:39.374703Z",
     "start_time": "2023-10-15T21:23:39.362687Z"
    }
   },
   "source": [
    "#### Results"
   ]
  },
  {
   "cell_type": "code",
   "execution_count": 272,
   "id": "2e3e033e",
   "metadata": {
    "ExecuteTime": {
     "end_time": "2023-10-15T21:23:03.501783Z",
     "start_time": "2023-10-15T21:23:03.481844Z"
    }
   },
   "outputs": [
    {
     "data": {
      "text/html": [
       "<div>\n",
       "<style scoped>\n",
       "    .dataframe tbody tr th:only-of-type {\n",
       "        vertical-align: middle;\n",
       "    }\n",
       "\n",
       "    .dataframe tbody tr th {\n",
       "        vertical-align: top;\n",
       "    }\n",
       "\n",
       "    .dataframe thead th {\n",
       "        text-align: right;\n",
       "    }\n",
       "</style>\n",
       "<table border=\"1\" class=\"dataframe\">\n",
       "  <thead>\n",
       "    <tr style=\"text-align: right;\">\n",
       "      <th></th>\n",
       "      <th>Model</th>\n",
       "      <th>Accuracy</th>\n",
       "      <th>Precision</th>\n",
       "      <th>Recall</th>\n",
       "      <th>F1 Score</th>\n",
       "    </tr>\n",
       "  </thead>\n",
       "  <tbody>\n",
       "    <tr>\n",
       "      <th>0</th>\n",
       "      <td>Logistic Regression</td>\n",
       "      <td>0.901</td>\n",
       "      <td>0.632</td>\n",
       "      <td>0.244</td>\n",
       "      <td>0.353</td>\n",
       "    </tr>\n",
       "    <tr>\n",
       "      <th>1</th>\n",
       "      <td>KNN</td>\n",
       "      <td>0.887</td>\n",
       "      <td>0.439</td>\n",
       "      <td>0.08</td>\n",
       "      <td>0.135</td>\n",
       "    </tr>\n",
       "  </tbody>\n",
       "</table>\n",
       "</div>"
      ],
      "text/plain": [
       "                 Model Accuracy Precision Recall F1 Score\n",
       "0  Logistic Regression    0.901     0.632  0.244    0.353\n",
       "1                  KNN    0.887     0.439   0.08    0.135"
      ]
     },
     "execution_count": 272,
     "metadata": {},
     "output_type": "execute_result"
    }
   ],
   "source": [
    "accuracy = np.round(np.array([acc_log_test, acc_knn_test]),3)\n",
    "precision =np.round(np.array([precision_log_test, precision_knn_test]),3)\n",
    "recall =np.round( np.array([recall_log_test, recall_knn_test]),3)\n",
    "f_1 = np.round(np.array([f1_log_test, f1_knn_test]),3)\n",
    "models = np.array(['Logistic Regression', 'KNN'])\n",
    "results = pd.DataFrame(np.column_stack((models, accuracy, precision, recall, f_1)),\n",
    "                       columns=['Model', 'Accuracy', 'Precision', 'Recall', 'F1 Score'])\n",
    "results"
   ]
  },
  {
   "cell_type": "code",
   "execution_count": 274,
   "id": "d0f52eb0",
   "metadata": {
    "ExecuteTime": {
     "end_time": "2023-10-15T21:24:10.062518Z",
     "start_time": "2023-10-15T21:24:10.054494Z"
    }
   },
   "outputs": [],
   "source": [
    "# From above table, it can be infered that Logistic regression performs better than KNN Classifier"
   ]
  }
 ],
 "metadata": {
  "colab": {
   "provenance": []
  },
  "kernelspec": {
   "display_name": "Python 3 (ipykernel)",
   "language": "python",
   "name": "python3"
  },
  "language_info": {
   "codemirror_mode": {
    "name": "ipython",
    "version": 3
   },
   "file_extension": ".py",
   "mimetype": "text/x-python",
   "name": "python",
   "nbconvert_exporter": "python",
   "pygments_lexer": "ipython3",
   "version": "3.9.7"
  }
 },
 "nbformat": 4,
 "nbformat_minor": 5
}
