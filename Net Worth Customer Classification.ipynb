{
 "cells": [
  {
   "cell_type": "code",
   "execution_count": 1,
   "id": "fe9d90b7",
   "metadata": {
    "ExecuteTime": {
     "end_time": "2023-02-05T14:08:39.919438Z",
     "start_time": "2023-02-05T14:08:38.090599Z"
    },
    "id": "fe9d90b7"
   },
   "outputs": [],
   "source": [
    "import pandas as pd\n",
    "import numpy as np\n",
    "import seaborn as sns\n",
    "import matplotlib.pyplot as plt\n",
    "import pprint\n",
    "from scipy import stats\n",
    "\n",
    "from feature_engine import transformation as vt\n",
    "from sklearn.model_selection import RepeatedStratifiedKFold\n",
    "from sklearn.model_selection import GridSearchCV\n",
    "from sklearn.model_selection import RandomizedSearchCV\n",
    "\n",
    "from pprint import pprint"
   ]
  },
  {
   "cell_type": "code",
   "execution_count": 2,
   "id": "ab819fc2",
   "metadata": {
    "ExecuteTime": {
     "end_time": "2023-02-05T14:08:39.935296Z",
     "start_time": "2023-02-05T14:08:39.922435Z"
    }
   },
   "outputs": [],
   "source": [
    "pd.set_option(\"display.max_columns\",None)"
   ]
  },
  {
   "cell_type": "code",
   "execution_count": 3,
   "id": "c83KZl9WC5Fg",
   "metadata": {
    "ExecuteTime": {
     "end_time": "2023-02-05T14:08:39.982214Z",
     "start_time": "2023-02-05T14:08:39.937299Z"
    },
    "id": "c83KZl9WC5Fg"
   },
   "outputs": [],
   "source": [
    "train_set=pd.read_csv(r'C:\\Users\\Prawin\\Documents\\ML PROJECT\\existing_base_train.csv')"
   ]
  },
  {
   "cell_type": "code",
   "execution_count": 4,
   "id": "5tCiZRfBAhdJ",
   "metadata": {
    "ExecuteTime": {
     "end_time": "2023-02-05T14:08:40.013552Z",
     "start_time": "2023-02-05T14:08:39.983836Z"
    },
    "colab": {
     "base_uri": "https://localhost:8080/",
     "height": 240
    },
    "id": "5tCiZRfBAhdJ",
    "outputId": "6674f6ab-624b-4463-b632-357c57247a63"
   },
   "outputs": [
    {
     "data": {
      "text/html": [
       "<div>\n",
       "<style scoped>\n",
       "    .dataframe tbody tr th:only-of-type {\n",
       "        vertical-align: middle;\n",
       "    }\n",
       "\n",
       "    .dataframe tbody tr th {\n",
       "        vertical-align: top;\n",
       "    }\n",
       "\n",
       "    .dataframe thead th {\n",
       "        text-align: right;\n",
       "    }\n",
       "</style>\n",
       "<table border=\"1\" class=\"dataframe\">\n",
       "  <thead>\n",
       "    <tr style=\"text-align: right;\">\n",
       "      <th></th>\n",
       "      <th>REF_NO</th>\n",
       "      <th>children</th>\n",
       "      <th>age_band</th>\n",
       "      <th>status</th>\n",
       "      <th>occupation</th>\n",
       "      <th>occupation_partner</th>\n",
       "      <th>home_status</th>\n",
       "      <th>family_income</th>\n",
       "      <th>self_employed</th>\n",
       "      <th>self_employed_partner</th>\n",
       "      <th>year_last_moved</th>\n",
       "      <th>TVarea</th>\n",
       "      <th>post_code</th>\n",
       "      <th>post_area</th>\n",
       "      <th>Average_Credit_Card_Transaction</th>\n",
       "      <th>Balance_Transfer</th>\n",
       "      <th>Term_Deposit</th>\n",
       "      <th>Life_Insurance</th>\n",
       "      <th>Medical_Insurance</th>\n",
       "      <th>Average_A/C_Balance</th>\n",
       "      <th>Personal_Loan</th>\n",
       "      <th>Investment_in_Mutual_Fund</th>\n",
       "      <th>Investment_Tax_Saving_Bond</th>\n",
       "      <th>Home_Loan</th>\n",
       "      <th>Online_Purchase_Amount</th>\n",
       "      <th>gender</th>\n",
       "      <th>region</th>\n",
       "      <th>Investment_in_Commudity</th>\n",
       "      <th>Investment_in_Equity</th>\n",
       "      <th>Investment_in_Derivative</th>\n",
       "      <th>Portfolio_Balance</th>\n",
       "      <th>Revenue_Grid</th>\n",
       "    </tr>\n",
       "  </thead>\n",
       "  <tbody>\n",
       "    <tr>\n",
       "      <th>0</th>\n",
       "      <td>5466</td>\n",
       "      <td>2</td>\n",
       "      <td>31-35</td>\n",
       "      <td>Partner</td>\n",
       "      <td>Professional</td>\n",
       "      <td>Professional</td>\n",
       "      <td>Own Home</td>\n",
       "      <td>&gt;=35,000</td>\n",
       "      <td>No</td>\n",
       "      <td>No</td>\n",
       "      <td>1981</td>\n",
       "      <td>Meridian</td>\n",
       "      <td>M51 0GU</td>\n",
       "      <td>M51</td>\n",
       "      <td>26.98</td>\n",
       "      <td>29.99</td>\n",
       "      <td>312.25</td>\n",
       "      <td>299.79</td>\n",
       "      <td>88.72</td>\n",
       "      <td>108.85</td>\n",
       "      <td>175.43</td>\n",
       "      <td>134.35</td>\n",
       "      <td>8.98</td>\n",
       "      <td>55.44</td>\n",
       "      <td>7.68</td>\n",
       "      <td>Female</td>\n",
       "      <td>North West</td>\n",
       "      <td>151.55</td>\n",
       "      <td>81.79</td>\n",
       "      <td>136.02</td>\n",
       "      <td>360.37</td>\n",
       "      <td>2</td>\n",
       "    </tr>\n",
       "    <tr>\n",
       "      <th>1</th>\n",
       "      <td>9091</td>\n",
       "      <td>Zero</td>\n",
       "      <td>45-50</td>\n",
       "      <td>Partner</td>\n",
       "      <td>Secretarial/Admin</td>\n",
       "      <td>Professional</td>\n",
       "      <td>Own Home</td>\n",
       "      <td>&gt;=35,000</td>\n",
       "      <td>No</td>\n",
       "      <td>No</td>\n",
       "      <td>1997</td>\n",
       "      <td>Meridian</td>\n",
       "      <td>L40 2AG</td>\n",
       "      <td>L40</td>\n",
       "      <td>35.98</td>\n",
       "      <td>74.48</td>\n",
       "      <td>0.00</td>\n",
       "      <td>99.96</td>\n",
       "      <td>10.99</td>\n",
       "      <td>48.45</td>\n",
       "      <td>15.99</td>\n",
       "      <td>0.00</td>\n",
       "      <td>0.00</td>\n",
       "      <td>0.00</td>\n",
       "      <td>18.99</td>\n",
       "      <td>Female</td>\n",
       "      <td>North West</td>\n",
       "      <td>44.28</td>\n",
       "      <td>13.91</td>\n",
       "      <td>29.23</td>\n",
       "      <td>89.22</td>\n",
       "      <td>2</td>\n",
       "    </tr>\n",
       "  </tbody>\n",
       "</table>\n",
       "</div>"
      ],
      "text/plain": [
       "   REF_NO children age_band   status         occupation occupation_partner  \\\n",
       "0    5466        2    31-35  Partner       Professional       Professional   \n",
       "1    9091     Zero    45-50  Partner  Secretarial/Admin       Professional   \n",
       "\n",
       "  home_status family_income self_employed self_employed_partner  \\\n",
       "0    Own Home      >=35,000            No                    No   \n",
       "1    Own Home      >=35,000            No                    No   \n",
       "\n",
       "   year_last_moved    TVarea post_code post_area  \\\n",
       "0             1981  Meridian   M51 0GU       M51   \n",
       "1             1997  Meridian   L40 2AG       L40   \n",
       "\n",
       "   Average_Credit_Card_Transaction  Balance_Transfer  Term_Deposit  \\\n",
       "0                            26.98             29.99        312.25   \n",
       "1                            35.98             74.48          0.00   \n",
       "\n",
       "   Life_Insurance  Medical_Insurance  Average_A/C_Balance  Personal_Loan  \\\n",
       "0          299.79              88.72               108.85         175.43   \n",
       "1           99.96              10.99                48.45          15.99   \n",
       "\n",
       "   Investment_in_Mutual_Fund  Investment_Tax_Saving_Bond  Home_Loan  \\\n",
       "0                     134.35                        8.98      55.44   \n",
       "1                       0.00                        0.00       0.00   \n",
       "\n",
       "   Online_Purchase_Amount  gender      region  Investment_in_Commudity  \\\n",
       "0                    7.68  Female  North West                   151.55   \n",
       "1                   18.99  Female  North West                    44.28   \n",
       "\n",
       "   Investment_in_Equity  Investment_in_Derivative  Portfolio_Balance  \\\n",
       "0                 81.79                    136.02             360.37   \n",
       "1                 13.91                     29.23              89.22   \n",
       "\n",
       "   Revenue_Grid  \n",
       "0             2  \n",
       "1             2  "
      ]
     },
     "execution_count": 4,
     "metadata": {},
     "output_type": "execute_result"
    }
   ],
   "source": [
    "train_set.head(2)"
   ]
  },
  {
   "cell_type": "code",
   "execution_count": 5,
   "id": "9b23e8c4",
   "metadata": {
    "ExecuteTime": {
     "end_time": "2023-02-05T14:08:40.029469Z",
     "start_time": "2023-02-05T14:08:40.015518Z"
    },
    "id": "9b23e8c4"
   },
   "outputs": [],
   "source": [
    "y_main=train_set['Revenue_Grid']\n",
    "x_main=train_set.drop(columns=['Revenue_Grid','post_code','REF_NO'])"
   ]
  },
  {
   "cell_type": "markdown",
   "id": "92b3ddd1",
   "metadata": {},
   "source": [
    "# Removing Unknown"
   ]
  },
  {
   "cell_type": "code",
   "execution_count": 6,
   "id": "8699bb27",
   "metadata": {
    "ExecuteTime": {
     "end_time": "2023-02-05T14:08:40.044430Z",
     "start_time": "2023-02-05T14:08:40.031463Z"
    }
   },
   "outputs": [
    {
     "data": {
      "text/plain": [
       "Index(['children', 'age_band', 'status', 'occupation', 'occupation_partner',\n",
       "       'home_status', 'family_income', 'self_employed',\n",
       "       'self_employed_partner', 'year_last_moved', 'TVarea', 'post_area',\n",
       "       'Average_Credit_Card_Transaction', 'Balance_Transfer', 'Term_Deposit',\n",
       "       'Life_Insurance', 'Medical_Insurance', 'Average_A/C_Balance',\n",
       "       'Personal_Loan', 'Investment_in_Mutual_Fund',\n",
       "       'Investment_Tax_Saving_Bond', 'Home_Loan', 'Online_Purchase_Amount',\n",
       "       'gender', 'region', 'Investment_in_Commudity', 'Investment_in_Equity',\n",
       "       'Investment_in_Derivative', 'Portfolio_Balance'],\n",
       "      dtype='object')"
      ]
     },
     "execution_count": 6,
     "metadata": {},
     "output_type": "execute_result"
    }
   ],
   "source": [
    "columns=x_main.columns\n",
    "columns"
   ]
  },
  {
   "cell_type": "code",
   "execution_count": 7,
   "id": "4a9cb55c",
   "metadata": {
    "ExecuteTime": {
     "end_time": "2023-02-05T14:08:40.106097Z",
     "start_time": "2023-02-05T14:08:40.046425Z"
    },
    "colab": {
     "base_uri": "https://localhost:8080/"
    },
    "id": "4a9cb55c",
    "outputId": "b4e677cd-66c5-430f-dcfb-520ba5b5681c"
   },
   "outputs": [
    {
     "name": "stdout",
     "output_type": "stream",
     "text": [
      "Column is: age_band\n",
      "44\n",
      "Column is: status\n",
      "40\n",
      "Column is: occupation\n",
      "449\n",
      "Column is: occupation_partner\n",
      "1942\n",
      "Column is: family_income\n",
      "108\n",
      "Column is: TVarea\n",
      "154\n",
      "Column is: gender\n",
      "31\n",
      "Column is: region\n",
      "866\n"
     ]
    }
   ],
   "source": [
    "for z in columns:\n",
    "    if x_main[x_main[z]=='Unknown'][z].count() !=0:\n",
    "        print('Column is:',z)\n",
    "        print(x_main[x_main[z]=='Unknown'][z].count())"
   ]
  },
  {
   "cell_type": "code",
   "execution_count": 8,
   "id": "c64ee2de",
   "metadata": {
    "ExecuteTime": {
     "end_time": "2023-02-05T14:08:40.152975Z",
     "start_time": "2023-02-05T14:08:40.108095Z"
    },
    "id": "c64ee2de"
   },
   "outputs": [],
   "source": [
    "columns_2=['age_band','status','family_income','TVarea','gender','region']\n",
    "for y in columns_2:\n",
    "    z=str(x_main[y].mode())\n",
    "    x_main[y]=x_main[y].str.replace('Unknown',z)\n"
   ]
  },
  {
   "cell_type": "code",
   "execution_count": 9,
   "id": "fEDXV1TC1CRP",
   "metadata": {
    "ExecuteTime": {
     "end_time": "2023-02-05T14:08:40.198806Z",
     "start_time": "2023-02-05T14:08:40.154980Z"
    },
    "colab": {
     "base_uri": "https://localhost:8080/"
    },
    "id": "fEDXV1TC1CRP",
    "outputId": "4cc320cf-d0ed-4d61-b079-ffcf6bc3ccc2"
   },
   "outputs": [
    {
     "name": "stdout",
     "output_type": "stream",
     "text": [
      "Column is: occupation\n",
      "449\n",
      "Column is: occupation_partner\n",
      "1942\n"
     ]
    }
   ],
   "source": [
    "for z in columns:\n",
    "    if x_main[x_main[z]=='Unknown'][z].count() !=0:\n",
    "        print('Column is:',z)\n",
    "        print(x_main[x_main[z]=='Unknown'][z].count())"
   ]
  },
  {
   "cell_type": "code",
   "execution_count": 10,
   "id": "b3867133",
   "metadata": {
    "ExecuteTime": {
     "end_time": "2023-02-05T14:08:40.215021Z",
     "start_time": "2023-02-05T14:08:40.202796Z"
    },
    "id": "b3867133"
   },
   "outputs": [],
   "source": [
    "retired_age_band=['61-65','65-70','71+']"
   ]
  },
  {
   "cell_type": "code",
   "execution_count": 11,
   "id": "9cFWHlrmHdnp",
   "metadata": {
    "ExecuteTime": {
     "end_time": "2023-02-05T14:08:40.246603Z",
     "start_time": "2023-02-05T14:08:40.216770Z"
    },
    "id": "9cFWHlrmHdnp"
   },
   "outputs": [],
   "source": [
    "x_main.loc[(x_main['occupation']=='Unknown') & (x_main['age_band'].isin(retired_age_band)), 'occupation']='Retired'\n",
    "x_main.loc[(x_main['occupation']=='Unknown'), 'occupation']='Professional'\n",
    "x_main.loc[(x_main['occupation_partner']=='Unknown') & (x_main['age_band'].isin(retired_age_band)), 'occupation_partner']='Retired'\n",
    "x_main.loc[(x_main['occupation_partner']=='Unknown'), 'occupation_partner']='Professional'"
   ]
  },
  {
   "cell_type": "code",
   "execution_count": 12,
   "id": "TUZUC6rBR7UY",
   "metadata": {
    "ExecuteTime": {
     "end_time": "2023-02-05T14:08:40.261499Z",
     "start_time": "2023-02-05T14:08:40.248494Z"
    },
    "colab": {
     "base_uri": "https://localhost:8080/"
    },
    "id": "TUZUC6rBR7UY",
    "outputId": "7e7ec191-6964-48b2-d0f2-dd5818613ac7"
   },
   "outputs": [
    {
     "data": {
      "text/plain": [
       "45-50                        1098\n",
       "41-45                         903\n",
       "36-40                         895\n",
       "55-60                         865\n",
       "31-35                         840\n",
       "51-55                         833\n",
       "26-30                         735\n",
       "61-65                         700\n",
       "65-70                         468\n",
       "22-25                         356\n",
       "71+                           337\n",
       "18-21                          50\n",
       "0    45-50\\ndtype: object      44\n",
       "Name: age_band, dtype: int64"
      ]
     },
     "execution_count": 12,
     "metadata": {},
     "output_type": "execute_result"
    }
   ],
   "source": [
    "x_main['age_band'].value_counts()"
   ]
  },
  {
   "cell_type": "code",
   "execution_count": 13,
   "id": "oYdxc9wxUbk9",
   "metadata": {
    "ExecuteTime": {
     "end_time": "2023-02-05T14:08:40.277459Z",
     "start_time": "2023-02-05T14:08:40.264454Z"
    },
    "id": "oYdxc9wxUbk9"
   },
   "outputs": [],
   "source": [
    "x_main['age_band'] = x_main['age_band'].str.replace('0    45-50\\ndtype: object','45-50')"
   ]
  },
  {
   "cell_type": "markdown",
   "id": "3183ac2e",
   "metadata": {},
   "source": [
    "# Converting columns to comparable forms"
   ]
  },
  {
   "cell_type": "code",
   "execution_count": 14,
   "id": "t9v29NSyVHRD",
   "metadata": {
    "ExecuteTime": {
     "end_time": "2023-02-05T14:08:40.324775Z",
     "start_time": "2023-02-05T14:08:40.279412Z"
    },
    "id": "t9v29NSyVHRD"
   },
   "outputs": [],
   "source": [
    "x_main['age_band'] = x_main['age_band'].str.replace('45-50','50',regex=False)\n",
    "x_main['age_band'] = x_main['age_band'].str.replace('41-45','45',regex=False)\n",
    "x_main['age_band'] = x_main['age_band'].str.replace('36-40','40',regex=False)\n",
    "x_main['age_band'] = x_main['age_band'].str.replace('55-60','60',regex=False)\n",
    "x_main['age_band'] = x_main['age_band'].str.replace('31-35','35',regex=False)\n",
    "x_main['age_band'] = x_main['age_band'].str.replace('51-55','55',regex=False)\n",
    "x_main['age_band'] = x_main['age_band'].str.replace('26-30','30',regex=False)\n",
    "x_main['age_band'] = x_main['age_band'].str.replace('61-65','65',regex=False)\n",
    "x_main['age_band'] = x_main['age_band'].str.replace('65-70','70',regex=False)\n",
    "x_main['age_band'] = x_main['age_band'].str.replace('22-25','25',regex=False)\n",
    "x_main['age_band'] = x_main['age_band'].str.replace('71+','71',regex=False)\n",
    "x_main['age_band'] = x_main['age_band'].str.replace('18-21','21',regex=False)\n",
    "\n"
   ]
  },
  {
   "cell_type": "code",
   "execution_count": 15,
   "id": "VwIn4OfGVSoC",
   "metadata": {
    "ExecuteTime": {
     "end_time": "2023-02-05T14:08:40.340879Z",
     "start_time": "2023-02-05T14:08:40.327733Z"
    },
    "id": "VwIn4OfGVSoC"
   },
   "outputs": [],
   "source": [
    "x_main[['age_band']] = x_main[['age_band']].apply(pd.to_numeric)"
   ]
  },
  {
   "cell_type": "code",
   "execution_count": 16,
   "id": "IP62HqBkbkzH",
   "metadata": {
    "ExecuteTime": {
     "end_time": "2023-02-05T14:08:40.356245Z",
     "start_time": "2023-02-05T14:08:40.342838Z"
    },
    "colab": {
     "base_uri": "https://localhost:8080/"
    },
    "id": "IP62HqBkbkzH",
    "outputId": "709abe8d-8e6c-4bf7-91e6-babef1b12bc3"
   },
   "outputs": [
    {
     "data": {
      "text/plain": [
       "array(['>=35,000', '<22,500, >=20,000', '<25,000, >=22,500',\n",
       "       '<30,000, >=27,500', '<20,000, >=17,500', '<27,500, >=25,000',\n",
       "       '< 4,000', '<15,000, >=12,500', '<17,500, >=15,000',\n",
       "       '< 8,000, >= 4,000', '<12,500, >=10,000', '<10,000, >= 8,000',\n",
       "       '0    >=35,000\\ndtype: object'], dtype=object)"
      ]
     },
     "execution_count": 16,
     "metadata": {},
     "output_type": "execute_result"
    }
   ],
   "source": [
    "x_main['family_income'].unique()"
   ]
  },
  {
   "cell_type": "code",
   "execution_count": 17,
   "id": "pIAiJr5tcbnf",
   "metadata": {
    "ExecuteTime": {
     "end_time": "2023-02-05T14:08:40.372217Z",
     "start_time": "2023-02-05T14:08:40.358241Z"
    },
    "id": "pIAiJr5tcbnf"
   },
   "outputs": [],
   "source": [
    "salary_1=['<22,500, >=20,000', '<25,000, >=22,500','<30,000, >=27,500', '<20,000, >=17,500', '<27,500, >=25,000','< 4,000', '<15,000, >=12,500', '<17,500, >=15,000',\n",
    "       '< 8,000, >= 4,000', '<12,500, >=10,000', '<10,000, >= 8,000']"
   ]
  },
  {
   "cell_type": "code",
   "execution_count": 18,
   "id": "GHQW_3lZLeqS",
   "metadata": {
    "ExecuteTime": {
     "end_time": "2023-02-05T14:08:40.435685Z",
     "start_time": "2023-02-05T14:08:40.374198Z"
    },
    "id": "GHQW_3lZLeqS"
   },
   "outputs": [],
   "source": [
    "x_main['family_income'] = x_main['family_income'].str.replace('>=35,000','35000',regex=False)\n",
    "x_main['family_income'] = x_main['family_income'].str.replace('<22,500, >=20,000','22500',regex=False)\n",
    "x_main['family_income'] = x_main['family_income'].str.replace('<25,000, >=22,500','25000',regex=False)\n",
    "x_main['family_income'] = x_main['family_income'].str.replace('<30,000, >=27,500','30000',regex=False)\n",
    "x_main['family_income'] = x_main['family_income'].str.replace('<20,000, >=17,500','20000',regex=False)\n",
    "x_main['family_income'] = x_main['family_income'].str.replace('<27,500, >=25,000','27500',regex=False)\n",
    "x_main['family_income'] = x_main['family_income'].str.replace('< 4,000','4000',regex=False)\n",
    "x_main['family_income'] = x_main['family_income'].str.replace('<15,000, >=12,500','15000',regex=False)\n",
    "x_main['family_income'] = x_main['family_income'].str.replace('<17,500, >=15,000','17500',regex=False)\n",
    "x_main['family_income'] = x_main['family_income'].str.replace('< 8,000, >= 4,000','8000',regex=False)\n",
    "x_main['family_income'] = x_main['family_income'].str.replace('<12,500, >=10,000','12500',regex=False)\n",
    "x_main['family_income'] = x_main['family_income'].str.replace('<10,000, >= 8,000','10000',regex=False)\n",
    "x_main['family_income'] = x_main['family_income'].str.replace('0    35000\\ndtype: object','35000',regex=False)\n",
    "\n"
   ]
  },
  {
   "cell_type": "code",
   "execution_count": 19,
   "id": "nW-sThZUOl_S",
   "metadata": {
    "ExecuteTime": {
     "end_time": "2023-02-05T14:08:40.451854Z",
     "start_time": "2023-02-05T14:08:40.437314Z"
    },
    "id": "nW-sThZUOl_S"
   },
   "outputs": [],
   "source": [
    "x_main[['family_income']] = x_main[['family_income']].apply(pd.to_numeric)\n"
   ]
  },
  {
   "cell_type": "code",
   "execution_count": 20,
   "id": "mDHs6PlVP8Qb",
   "metadata": {
    "ExecuteTime": {
     "end_time": "2023-02-05T14:08:40.483053Z",
     "start_time": "2023-02-05T14:08:40.453852Z"
    },
    "id": "mDHs6PlVP8Qb"
   },
   "outputs": [],
   "source": [
    "x_main['status'] = x_main['status'].str.replace('0    Partner\\ndtype: object','Partner',regex=False)\n",
    "x_main.loc[x_main['year_last_moved']==0,'year_last_moved']=1997\n",
    "x_main['TVarea'] = x_main['TVarea'].str.replace('0    Central\\ndtype: object','Central',regex=False)\n",
    "x_main['gender'] = x_main['gender'].str.replace('0    Female\\ndtype: object','Female',regex=False)\n",
    "x_main['region'] = x_main['region'].str.replace('0    South East\\ndtype: object','South East',regex=False)\n",
    "\n",
    "\n"
   ]
  },
  {
   "cell_type": "code",
   "execution_count": 21,
   "id": "jJmiLDMMmh0Y",
   "metadata": {
    "ExecuteTime": {
     "end_time": "2023-02-05T14:08:40.499112Z",
     "start_time": "2023-02-05T14:08:40.484796Z"
    },
    "id": "jJmiLDMMmh0Y"
   },
   "outputs": [],
   "source": [
    "x_main.drop(['year_last_moved','children','TVarea'],inplace=True,axis=1)"
   ]
  },
  {
   "cell_type": "code",
   "execution_count": 22,
   "id": "10d70f59",
   "metadata": {
    "ExecuteTime": {
     "end_time": "2023-02-05T14:08:40.514718Z",
     "start_time": "2023-02-05T14:08:40.500727Z"
    }
   },
   "outputs": [],
   "source": [
    "x_main.drop(['post_area','region'],inplace=True,axis=1)\n"
   ]
  },
  {
   "cell_type": "markdown",
   "id": "3b0acfac",
   "metadata": {},
   "source": [
    "# Merging columns"
   ]
  },
  {
   "cell_type": "code",
   "execution_count": 23,
   "id": "t8FWKmTwGB5f",
   "metadata": {
    "ExecuteTime": {
     "end_time": "2023-02-05T14:08:40.530951Z",
     "start_time": "2023-02-05T14:08:40.516724Z"
    },
    "id": "t8FWKmTwGB5f"
   },
   "outputs": [],
   "source": [
    "# x_main['investments']=x_main['Investment_in_Mutual_Fund']+x_main['Investment_Tax_Saving_Bond']+x_main['Investment_in_Commudity']+x_main['Investment_in_Equity']+x_main['Investment_in_Derivative']+x_main['Term_Deposit']\n",
    "# x_main['spending']=x_main['Balance_Transfer']+x_main['Online_Purchase_Amount']\n",
    "# x_main['loans']=x_main['Personal_Loan']+x_main['Home_Loan']\n",
    "# x_main['insurance']=x_main['Life_Insurance']+x_main['Medical_Insurance']"
   ]
  },
  {
   "cell_type": "code",
   "execution_count": 24,
   "id": "DlEj0g8UHgvs",
   "metadata": {
    "ExecuteTime": {
     "end_time": "2023-02-05T14:08:40.546800Z",
     "start_time": "2023-02-05T14:08:40.533046Z"
    },
    "id": "DlEj0g8UHgvs"
   },
   "outputs": [],
   "source": [
    "# x_main.drop(columns=['Life_Insurance','Medical_Insurance','Personal_Loan','Investment_in_Mutual_Fund','Investment_Tax_Saving_Bond','Home_Loan','Investment_in_Commudity','Investment_in_Equity','Investment_in_Derivative','Term_Deposit','Balance_Transfer','Online_Purchase_Amount','post_area','region'],inplace=True)\n"
   ]
  },
  {
   "cell_type": "code",
   "execution_count": 25,
   "id": "9l7C7T7BXVjd",
   "metadata": {
    "ExecuteTime": {
     "end_time": "2023-02-05T14:08:40.561796Z",
     "start_time": "2023-02-05T14:08:40.548831Z"
    },
    "id": "9l7C7T7BXVjd"
   },
   "outputs": [],
   "source": [
    "cat_cols =list(['status', 'occupation', 'occupation_partner', 'home_status',\n",
    "       'self_employed', 'self_employed_partner', 'gender',\n",
    "       ])"
   ]
  },
  {
   "cell_type": "code",
   "execution_count": 26,
   "id": "_2l_-PFfB6VW",
   "metadata": {
    "ExecuteTime": {
     "end_time": "2023-02-05T14:08:40.592143Z",
     "start_time": "2023-02-05T14:08:40.563792Z"
    },
    "colab": {
     "base_uri": "https://localhost:8080/"
    },
    "id": "_2l_-PFfB6VW",
    "outputId": "67a3f2eb-16c1-42b4-d16b-c8b6e77256ca"
   },
   "outputs": [
    {
     "name": "stdout",
     "output_type": "stream",
     "text": [
      "Partner                 6164\n",
      "Single/Never Married     881\n",
      "Divorced/Separated       569\n",
      "Widowed                  510\n",
      "Name: status, dtype: int64\n",
      "======================================================================\n",
      "Professional         2335\n",
      "Retired              1862\n",
      "Secretarial/Admin    1435\n",
      "Housewife             984\n",
      "Business Manager      578\n",
      "Manual Worker         451\n",
      "Other                 432\n",
      "Student                47\n",
      "Name: occupation, dtype: int64\n",
      "======================================================================\n",
      "Professional         3103\n",
      "Retired              2017\n",
      "Manual Worker        1222\n",
      "Business Manager      575\n",
      "Secretarial/Admin     510\n",
      "Housewife             422\n",
      "Other                 261\n",
      "Student                14\n",
      "Name: occupation_partner, dtype: int64\n",
      "======================================================================\n",
      "Own Home                7506\n",
      "Rent from Council/HA     279\n",
      "Rent Privately           205\n",
      "Live in Parental Hom      90\n",
      "Unclassified              44\n",
      "Name: home_status, dtype: int64\n",
      "======================================================================\n",
      "No     7543\n",
      "Yes     581\n",
      "Name: self_employed, dtype: int64\n",
      "======================================================================\n",
      "No     7207\n",
      "Yes     917\n",
      "Name: self_employed_partner, dtype: int64\n",
      "======================================================================\n",
      "Female    6137\n",
      "Male      1987\n",
      "Name: gender, dtype: int64\n",
      "======================================================================\n"
     ]
    }
   ],
   "source": [
    "for c in cat_cols:\n",
    "    print(x_main[c].value_counts())\n",
    "    print('='*70)"
   ]
  },
  {
   "cell_type": "markdown",
   "id": "gqfOldJCEpAi",
   "metadata": {
    "id": "gqfOldJCEpAi"
   },
   "source": [
    "# Label encoding for all the categorical columns"
   ]
  },
  {
   "cell_type": "code",
   "execution_count": 27,
   "id": "nlQ0bhFvEnER",
   "metadata": {
    "ExecuteTime": {
     "end_time": "2023-02-05T14:08:40.623424Z",
     "start_time": "2023-02-05T14:08:40.593103Z"
    },
    "id": "nlQ0bhFvEnER"
   },
   "outputs": [],
   "source": [
    "from sklearn import preprocessing\n",
    "le = preprocessing.LabelEncoder()\n",
    "\n",
    "for x in cat_cols:\n",
    "    x_main[x] = le.fit_transform(x_main[x].astype(str))\n",
    "  "
   ]
  },
  {
   "cell_type": "markdown",
   "id": "TMCWbMDKdGHX",
   "metadata": {
    "id": "TMCWbMDKdGHX"
   },
   "source": [
    "# Skewness of columns"
   ]
  },
  {
   "cell_type": "code",
   "execution_count": 28,
   "id": "4be2ef3a",
   "metadata": {
    "ExecuteTime": {
     "end_time": "2023-02-05T14:08:40.639613Z",
     "start_time": "2023-02-05T14:08:40.628409Z"
    }
   },
   "outputs": [
    {
     "data": {
      "text/plain": [
       "8.895471542761344"
      ]
     },
     "execution_count": 28,
     "metadata": {},
     "output_type": "execute_result"
    }
   ],
   "source": [
    "x_main['Portfolio_Balance'].skew(axis=0)"
   ]
  },
  {
   "cell_type": "code",
   "execution_count": 29,
   "id": "c64620a1",
   "metadata": {
    "ExecuteTime": {
     "end_time": "2023-02-05T14:08:40.655349Z",
     "start_time": "2023-02-05T14:08:40.641415Z"
    }
   },
   "outputs": [],
   "source": [
    "x_main['Portfolio_Balance']=np.log(x_main['Portfolio_Balance']+80)"
   ]
  },
  {
   "cell_type": "code",
   "execution_count": 30,
   "id": "f71094f0",
   "metadata": {
    "ExecuteTime": {
     "end_time": "2023-02-05T14:08:40.670530Z",
     "start_time": "2023-02-05T14:08:40.658349Z"
    }
   },
   "outputs": [
    {
     "data": {
      "text/plain": [
       "-0.21879018497721892"
      ]
     },
     "execution_count": 30,
     "metadata": {},
     "output_type": "execute_result"
    }
   ],
   "source": [
    "x_main['Portfolio_Balance'].skew(axis=0)"
   ]
  },
  {
   "cell_type": "code",
   "execution_count": 31,
   "id": "844e4a0b",
   "metadata": {
    "ExecuteTime": {
     "end_time": "2023-02-05T14:08:40.686255Z",
     "start_time": "2023-02-05T14:08:40.673290Z"
    }
   },
   "outputs": [
    {
     "data": {
      "text/plain": [
       "Index(['age_band', 'status', 'occupation', 'occupation_partner', 'home_status',\n",
       "       'family_income', 'self_employed', 'self_employed_partner',\n",
       "       'Average_Credit_Card_Transaction', 'Balance_Transfer', 'Term_Deposit',\n",
       "       'Life_Insurance', 'Medical_Insurance', 'Average_A/C_Balance',\n",
       "       'Personal_Loan', 'Investment_in_Mutual_Fund',\n",
       "       'Investment_Tax_Saving_Bond', 'Home_Loan', 'Online_Purchase_Amount',\n",
       "       'gender', 'Investment_in_Commudity', 'Investment_in_Equity',\n",
       "       'Investment_in_Derivative', 'Portfolio_Balance'],\n",
       "      dtype='object')"
      ]
     },
     "execution_count": 31,
     "metadata": {},
     "output_type": "execute_result"
    }
   ],
   "source": [
    "x_main.columns"
   ]
  },
  {
   "cell_type": "code",
   "execution_count": 32,
   "id": "9f756667",
   "metadata": {
    "ExecuteTime": {
     "end_time": "2023-02-05T14:08:40.702212Z",
     "start_time": "2023-02-05T14:08:40.688250Z"
    }
   },
   "outputs": [],
   "source": [
    "num_cols=['Average_Credit_Card_Transaction', 'Balance_Transfer', 'Term_Deposit',\n",
    "       'Life_Insurance', 'Medical_Insurance', 'Average_A/C_Balance',\n",
    "       'Personal_Loan', 'Investment_in_Mutual_Fund',\n",
    "       'Investment_Tax_Saving_Bond', 'Home_Loan', 'Online_Purchase_Amount',\n",
    "        'Investment_in_Commudity', 'Investment_in_Equity',\n",
    "       'Investment_in_Derivative', 'Portfolio_Balance']\n",
    "\n",
    "skew_values=dict()\n",
    "for x in num_cols:\n",
    "    skew_values[x]=x_main[x].skew(axis=0)\n",
    "        "
   ]
  },
  {
   "cell_type": "code",
   "execution_count": 33,
   "id": "84508c4e",
   "metadata": {
    "ExecuteTime": {
     "end_time": "2023-02-05T14:08:40.718170Z",
     "start_time": "2023-02-05T14:08:40.704209Z"
    }
   },
   "outputs": [
    {
     "name": "stdout",
     "output_type": "stream",
     "text": [
      "{'Average_A/C_Balance': 2.6899852225751015,\n",
      " 'Average_Credit_Card_Transaction': 3.761152392656973,\n",
      " 'Balance_Transfer': 8.17373435516367,\n",
      " 'Home_Loan': 3.9776570354132743,\n",
      " 'Investment_Tax_Saving_Bond': 3.1917131080167658,\n",
      " 'Investment_in_Commudity': 4.816122212927679,\n",
      " 'Investment_in_Derivative': 12.462311620123822,\n",
      " 'Investment_in_Equity': 11.524906448106663,\n",
      " 'Investment_in_Mutual_Fund': 9.667247131810205,\n",
      " 'Life_Insurance': 5.5093788295282105,\n",
      " 'Medical_Insurance': 3.3619401952736054,\n",
      " 'Online_Purchase_Amount': 21.763954245754945,\n",
      " 'Personal_Loan': 26.159595921690393,\n",
      " 'Portfolio_Balance': -0.21879018497721892,\n",
      " 'Term_Deposit': 4.174162624313323}\n"
     ]
    }
   ],
   "source": [
    "pprint(skew_values)"
   ]
  },
  {
   "cell_type": "code",
   "execution_count": 34,
   "id": "4a7a05c9",
   "metadata": {
    "ExecuteTime": {
     "end_time": "2023-02-05T14:08:40.733130Z",
     "start_time": "2023-02-05T14:08:40.720169Z"
    }
   },
   "outputs": [],
   "source": [
    "for x in list(skew_values):\n",
    "    if skew_values[x]>-0.5 and skew_values[x]<0.5:\n",
    "        del skew_values[x]"
   ]
  },
  {
   "cell_type": "code",
   "execution_count": 35,
   "id": "deabe4da",
   "metadata": {
    "ExecuteTime": {
     "end_time": "2023-02-05T14:08:40.748089Z",
     "start_time": "2023-02-05T14:08:40.735125Z"
    }
   },
   "outputs": [
    {
     "name": "stdout",
     "output_type": "stream",
     "text": [
      "{'Average_A/C_Balance': 2.6899852225751015,\n",
      " 'Average_Credit_Card_Transaction': 3.761152392656973,\n",
      " 'Balance_Transfer': 8.17373435516367,\n",
      " 'Home_Loan': 3.9776570354132743,\n",
      " 'Investment_Tax_Saving_Bond': 3.1917131080167658,\n",
      " 'Investment_in_Commudity': 4.816122212927679,\n",
      " 'Investment_in_Derivative': 12.462311620123822,\n",
      " 'Investment_in_Equity': 11.524906448106663,\n",
      " 'Investment_in_Mutual_Fund': 9.667247131810205,\n",
      " 'Life_Insurance': 5.5093788295282105,\n",
      " 'Medical_Insurance': 3.3619401952736054,\n",
      " 'Online_Purchase_Amount': 21.763954245754945,\n",
      " 'Personal_Loan': 26.159595921690393,\n",
      " 'Term_Deposit': 4.174162624313323}\n"
     ]
    }
   ],
   "source": [
    "pprint(skew_values)"
   ]
  },
  {
   "cell_type": "code",
   "execution_count": 36,
   "id": "n_fPOkUFOGu8",
   "metadata": {
    "ExecuteTime": {
     "end_time": "2023-02-05T14:08:40.764050Z",
     "start_time": "2023-02-05T14:08:40.749086Z"
    },
    "id": "n_fPOkUFOGu8"
   },
   "outputs": [],
   "source": [
    "## Log transformation \n",
    "\n",
    "for z in skew_values:\n",
    "    x_main[z]=np.log(x_main[z]+1)\n"
   ]
  },
  {
   "cell_type": "code",
   "execution_count": 37,
   "id": "00628a1d",
   "metadata": {
    "ExecuteTime": {
     "end_time": "2023-02-05T14:08:40.779008Z",
     "start_time": "2023-02-05T14:08:40.765046Z"
    }
   },
   "outputs": [
    {
     "name": "stdout",
     "output_type": "stream",
     "text": [
      "{'Average_Credit_Card_Transaction': 0.8051792765216884,\n",
      " 'Home_Loan': 1.2159097449753506,\n",
      " 'Investment_Tax_Saving_Bond': 1.0793572014516624,\n",
      " 'Investment_in_Commudity': -0.7501730007028966,\n",
      " 'Investment_in_Derivative': -0.6849206090542298,\n",
      " 'Online_Purchase_Amount': 1.4035161557946367,\n",
      " 'Personal_Loan': 0.9133060427134978,\n",
      " 'Term_Deposit': 0.542801917935399}\n"
     ]
    }
   ],
   "source": [
    "skew_values_2=dict()\n",
    "for x in num_cols:\n",
    "    skew_values_2[x]=x_main[x].skew(axis=0)\n",
    "for x in list(skew_values_2):\n",
    "    if skew_values_2[x]>-0.5 and skew_values_2[x]<0.5:\n",
    "        del skew_values_2[x]\n",
    "pprint(skew_values_2)"
   ]
  },
  {
   "cell_type": "code",
   "execution_count": 38,
   "id": "6a6ee56b",
   "metadata": {
    "ExecuteTime": {
     "end_time": "2023-02-05T14:08:40.842864Z",
     "start_time": "2023-02-05T14:08:40.781002Z"
    }
   },
   "outputs": [],
   "source": [
    "### box cox transformation \n",
    "\n",
    "for z in skew_values_2:\n",
    "    x_main[z],_=stats.boxcox(x_main[z]+1)"
   ]
  },
  {
   "cell_type": "code",
   "execution_count": 39,
   "id": "3a10110a",
   "metadata": {
    "ExecuteTime": {
     "end_time": "2023-02-05T14:08:40.858832Z",
     "start_time": "2023-02-05T14:08:40.844831Z"
    }
   },
   "outputs": [
    {
     "name": "stdout",
     "output_type": "stream",
     "text": [
      "{'Average_Credit_Card_Transaction': 0.516734650125929,\n",
      " 'Home_Loan': 0.8433235274720438,\n",
      " 'Investment_Tax_Saving_Bond': 0.6173105061104122,\n",
      " 'Online_Purchase_Amount': 0.9133226108581012,\n",
      " 'Personal_Loan': 0.5892806556126351}\n"
     ]
    }
   ],
   "source": [
    "skew_values_2=dict()\n",
    "for x in num_cols:\n",
    "    skew_values_2[x]=x_main[x].skew(axis=0)\n",
    "for x in list(skew_values_2):\n",
    "    if skew_values_2[x]>-0.5 and skew_values_2[x]<0.5:\n",
    "        del skew_values_2[x]\n",
    "pprint(skew_values_2)"
   ]
  },
  {
   "cell_type": "code",
   "execution_count": 40,
   "id": "bce17257",
   "metadata": {
    "ExecuteTime": {
     "end_time": "2023-02-05T14:08:40.921888Z",
     "start_time": "2023-02-05T14:08:40.860816Z"
    }
   },
   "outputs": [],
   "source": [
    "x_main['Average_Credit_Card_Transaction'],_=stats.boxcox(x_main['Average_Credit_Card_Transaction']+1)\n",
    "x_main['Home_Loan'],_=stats.boxcox(x_main['Average_Credit_Card_Transaction']+1)\n",
    "x_main['Investment_Tax_Saving_Bond'],_=stats.boxcox(x_main['Average_Credit_Card_Transaction']+1)\n",
    "x_main['Online_Purchase_Amount'],_=stats.boxcox(x_main['Average_Credit_Card_Transaction']+1)\n",
    "x_main['Personal_Loan'],_=stats.boxcox(x_main['Average_Credit_Card_Transaction']+1)"
   ]
  },
  {
   "cell_type": "code",
   "execution_count": 41,
   "id": "1cc5281d",
   "metadata": {
    "ExecuteTime": {
     "end_time": "2023-02-05T14:08:40.936806Z",
     "start_time": "2023-02-05T14:08:40.924605Z"
    }
   },
   "outputs": [
    {
     "name": "stdout",
     "output_type": "stream",
     "text": [
      "0.4958726853368258\n",
      "0.49148287543865765\n",
      "0.49148287543865765\n",
      "0.49148287543865765\n",
      "0.49148287543865765\n"
     ]
    }
   ],
   "source": [
    "print(x_main['Average_Credit_Card_Transaction'].skew(axis=0))\n",
    "print(x_main['Home_Loan'].skew(axis=0))\n",
    "print(x_main['Investment_Tax_Saving_Bond'].skew(axis=0))\n",
    "print(x_main['Online_Purchase_Amount'].skew(axis=0))\n",
    "print(x_main['Personal_Loan'].skew(axis=0))"
   ]
  },
  {
   "cell_type": "markdown",
   "id": "da497ef5",
   "metadata": {},
   "source": [
    "# Checking if target variable is balanced"
   ]
  },
  {
   "cell_type": "code",
   "execution_count": 42,
   "id": "ec098dfd",
   "metadata": {
    "ExecuteTime": {
     "end_time": "2023-02-05T14:08:40.952544Z",
     "start_time": "2023-02-05T14:08:40.938567Z"
    }
   },
   "outputs": [
    {
     "data": {
      "text/plain": [
       "2    7264\n",
       "1     860\n",
       "Name: Revenue_Grid, dtype: int64"
      ]
     },
     "execution_count": 42,
     "metadata": {},
     "output_type": "execute_result"
    }
   ],
   "source": [
    "y_main.value_counts()"
   ]
  },
  {
   "cell_type": "code",
   "execution_count": 43,
   "id": "3a76120c",
   "metadata": {
    "ExecuteTime": {
     "end_time": "2023-02-05T14:08:40.968494Z",
     "start_time": "2023-02-05T14:08:40.956518Z"
    }
   },
   "outputs": [
    {
     "data": {
      "text/plain": [
       "8.446511627906977"
      ]
     },
     "execution_count": 43,
     "metadata": {},
     "output_type": "execute_result"
    }
   ],
   "source": [
    "7264/860"
   ]
  },
  {
   "cell_type": "code",
   "execution_count": 44,
   "id": "c17ecb95",
   "metadata": {
    "ExecuteTime": {
     "end_time": "2023-02-05T14:08:41.203298Z",
     "start_time": "2023-02-05T14:08:40.970480Z"
    }
   },
   "outputs": [],
   "source": [
    "from imblearn.over_sampling import BorderlineSMOTE\n",
    "ros=BorderlineSMOTE(random_state=0)"
   ]
  },
  {
   "cell_type": "code",
   "execution_count": 45,
   "id": "939bf5c9",
   "metadata": {
    "ExecuteTime": {
     "end_time": "2023-02-05T14:08:41.503496Z",
     "start_time": "2023-02-05T14:08:41.204295Z"
    }
   },
   "outputs": [],
   "source": [
    "x_main_1,y_main_1=ros.fit_resample(x_main,y_main)"
   ]
  },
  {
   "cell_type": "code",
   "execution_count": 46,
   "id": "a5541d5e",
   "metadata": {
    "ExecuteTime": {
     "end_time": "2023-02-05T14:08:41.519454Z",
     "start_time": "2023-02-05T14:08:41.504492Z"
    }
   },
   "outputs": [
    {
     "data": {
      "text/plain": [
       "2    7264\n",
       "1    7264\n",
       "Name: Revenue_Grid, dtype: int64"
      ]
     },
     "execution_count": 46,
     "metadata": {},
     "output_type": "execute_result"
    }
   ],
   "source": [
    "y_main_1.value_counts()"
   ]
  },
  {
   "cell_type": "markdown",
   "id": "71f944ee",
   "metadata": {
    "id": "D8SdtiRFM-k1"
   },
   "source": [
    "# Train Test Split-Model"
   ]
  },
  {
   "cell_type": "code",
   "execution_count": 47,
   "id": "b77c980c",
   "metadata": {
    "ExecuteTime": {
     "end_time": "2023-02-05T14:08:44.565425Z",
     "start_time": "2023-02-05T14:08:44.541601Z"
    },
    "id": "BeDKRY3IM3jf"
   },
   "outputs": [],
   "source": [
    "from sklearn.model_selection import train_test_split\n",
    "X_train,X_test,y_train,y_test=train_test_split(x_main_1,y_main_1,random_state=102,test_size=0.25)"
   ]
  },
  {
   "cell_type": "code",
   "execution_count": 48,
   "id": "ed75226c",
   "metadata": {
    "ExecuteTime": {
     "end_time": "2023-02-05T14:08:47.543891Z",
     "start_time": "2023-02-05T14:08:47.533893Z"
    },
    "colab": {
     "base_uri": "https://localhost:8080/"
    },
    "id": "MXMc-r2NP_H8",
    "outputId": "b6ce7a21-ef5e-4b7c-b8e4-349d7e6a0f31"
   },
   "outputs": [
    {
     "data": {
      "text/plain": [
       "((10896, 24), (3632, 24), (10896,), (3632,))"
      ]
     },
     "execution_count": 48,
     "metadata": {},
     "output_type": "execute_result"
    }
   ],
   "source": [
    "X_train.shape,X_test.shape,y_train.shape,y_test.shape"
   ]
  },
  {
   "cell_type": "code",
   "execution_count": 49,
   "id": "d8HlXskLKkUS",
   "metadata": {
    "ExecuteTime": {
     "end_time": "2023-02-05T14:08:48.539138Z",
     "start_time": "2023-02-05T14:08:48.508786Z"
    },
    "id": "d8HlXskLKkUS"
   },
   "outputs": [],
   "source": [
    "\n",
    "from sklearn.preprocessing import MinMaxScaler\n",
    "mms=MinMaxScaler()\n",
    "X_train[num_cols]=mms.fit_transform(X_train[num_cols])\n",
    "X_test[num_cols]=mms.fit_transform(X_test[num_cols])"
   ]
  },
  {
   "cell_type": "code",
   "execution_count": 50,
   "id": "A9TlsgFRoGim",
   "metadata": {
    "ExecuteTime": {
     "end_time": "2023-02-05T14:08:49.369803Z",
     "start_time": "2023-02-05T14:08:49.307970Z"
    },
    "colab": {
     "base_uri": "https://localhost:8080/"
    },
    "id": "A9TlsgFRoGim",
    "outputId": "12d98089-288a-4036-dd20-2ea4811ca5a4"
   },
   "outputs": [
    {
     "data": {
      "text/html": [
       "<style>#sk-container-id-1 {color: black;background-color: white;}#sk-container-id-1 pre{padding: 0;}#sk-container-id-1 div.sk-toggleable {background-color: white;}#sk-container-id-1 label.sk-toggleable__label {cursor: pointer;display: block;width: 100%;margin-bottom: 0;padding: 0.3em;box-sizing: border-box;text-align: center;}#sk-container-id-1 label.sk-toggleable__label-arrow:before {content: \"▸\";float: left;margin-right: 0.25em;color: #696969;}#sk-container-id-1 label.sk-toggleable__label-arrow:hover:before {color: black;}#sk-container-id-1 div.sk-estimator:hover label.sk-toggleable__label-arrow:before {color: black;}#sk-container-id-1 div.sk-toggleable__content {max-height: 0;max-width: 0;overflow: hidden;text-align: left;background-color: #f0f8ff;}#sk-container-id-1 div.sk-toggleable__content pre {margin: 0.2em;color: black;border-radius: 0.25em;background-color: #f0f8ff;}#sk-container-id-1 input.sk-toggleable__control:checked~div.sk-toggleable__content {max-height: 200px;max-width: 100%;overflow: auto;}#sk-container-id-1 input.sk-toggleable__control:checked~label.sk-toggleable__label-arrow:before {content: \"▾\";}#sk-container-id-1 div.sk-estimator input.sk-toggleable__control:checked~label.sk-toggleable__label {background-color: #d4ebff;}#sk-container-id-1 div.sk-label input.sk-toggleable__control:checked~label.sk-toggleable__label {background-color: #d4ebff;}#sk-container-id-1 input.sk-hidden--visually {border: 0;clip: rect(1px 1px 1px 1px);clip: rect(1px, 1px, 1px, 1px);height: 1px;margin: -1px;overflow: hidden;padding: 0;position: absolute;width: 1px;}#sk-container-id-1 div.sk-estimator {font-family: monospace;background-color: #f0f8ff;border: 1px dotted black;border-radius: 0.25em;box-sizing: border-box;margin-bottom: 0.5em;}#sk-container-id-1 div.sk-estimator:hover {background-color: #d4ebff;}#sk-container-id-1 div.sk-parallel-item::after {content: \"\";width: 100%;border-bottom: 1px solid gray;flex-grow: 1;}#sk-container-id-1 div.sk-label:hover label.sk-toggleable__label {background-color: #d4ebff;}#sk-container-id-1 div.sk-serial::before {content: \"\";position: absolute;border-left: 1px solid gray;box-sizing: border-box;top: 0;bottom: 0;left: 50%;z-index: 0;}#sk-container-id-1 div.sk-serial {display: flex;flex-direction: column;align-items: center;background-color: white;padding-right: 0.2em;padding-left: 0.2em;position: relative;}#sk-container-id-1 div.sk-item {position: relative;z-index: 1;}#sk-container-id-1 div.sk-parallel {display: flex;align-items: stretch;justify-content: center;background-color: white;position: relative;}#sk-container-id-1 div.sk-item::before, #sk-container-id-1 div.sk-parallel-item::before {content: \"\";position: absolute;border-left: 1px solid gray;box-sizing: border-box;top: 0;bottom: 0;left: 50%;z-index: -1;}#sk-container-id-1 div.sk-parallel-item {display: flex;flex-direction: column;z-index: 1;position: relative;background-color: white;}#sk-container-id-1 div.sk-parallel-item:first-child::after {align-self: flex-end;width: 50%;}#sk-container-id-1 div.sk-parallel-item:last-child::after {align-self: flex-start;width: 50%;}#sk-container-id-1 div.sk-parallel-item:only-child::after {width: 0;}#sk-container-id-1 div.sk-dashed-wrapped {border: 1px dashed gray;margin: 0 0.4em 0.5em 0.4em;box-sizing: border-box;padding-bottom: 0.4em;background-color: white;}#sk-container-id-1 div.sk-label label {font-family: monospace;font-weight: bold;display: inline-block;line-height: 1.2em;}#sk-container-id-1 div.sk-label-container {text-align: center;}#sk-container-id-1 div.sk-container {/* jupyter's `normalize.less` sets `[hidden] { display: none; }` but bootstrap.min.css set `[hidden] { display: none !important; }` so we also need the `!important` here to be able to override the default hidden behavior on the sphinx rendered scikit-learn.org. See: https://github.com/scikit-learn/scikit-learn/issues/21755 */display: inline-block !important;position: relative;}#sk-container-id-1 div.sk-text-repr-fallback {display: none;}</style><div id=\"sk-container-id-1\" class=\"sk-top-container\"><div class=\"sk-text-repr-fallback\"><pre>LogisticRegression(max_iter=1000)</pre><b>In a Jupyter environment, please rerun this cell to show the HTML representation or trust the notebook. <br />On GitHub, the HTML representation is unable to render, please try loading this page with nbviewer.org.</b></div><div class=\"sk-container\" hidden><div class=\"sk-item\"><div class=\"sk-estimator sk-toggleable\"><input class=\"sk-toggleable__control sk-hidden--visually\" id=\"sk-estimator-id-1\" type=\"checkbox\" checked><label for=\"sk-estimator-id-1\" class=\"sk-toggleable__label sk-toggleable__label-arrow\">LogisticRegression</label><div class=\"sk-toggleable__content\"><pre>LogisticRegression(max_iter=1000)</pre></div></div></div></div></div>"
      ],
      "text/plain": [
       "LogisticRegression(max_iter=1000)"
      ]
     },
     "execution_count": 50,
     "metadata": {},
     "output_type": "execute_result"
    }
   ],
   "source": [
    "from sklearn.linear_model import LogisticRegression\n",
    "\n",
    "logreg2=LogisticRegression(max_iter=1000)\n",
    "logreg2.fit(X_train,y_train)"
   ]
  },
  {
   "cell_type": "code",
   "execution_count": 52,
   "id": "9c128e55",
   "metadata": {
    "ExecuteTime": {
     "end_time": "2023-02-05T14:08:52.262599Z",
     "start_time": "2023-02-05T14:08:52.245664Z"
    }
   },
   "outputs": [],
   "source": [
    "from sklearn.metrics import f1_score"
   ]
  },
  {
   "cell_type": "code",
   "execution_count": 53,
   "id": "3-lG_D1xORRZ",
   "metadata": {
    "ExecuteTime": {
     "end_time": "2023-02-05T14:08:52.895623Z",
     "start_time": "2023-02-05T14:08:52.876674Z"
    },
    "id": "3-lG_D1xORRZ"
   },
   "outputs": [],
   "source": [
    "y_pred_train=logreg2.predict(X_train)\n",
    "y_pred_test=logreg2.predict(X_test)"
   ]
  },
  {
   "cell_type": "code",
   "execution_count": 54,
   "id": "4_NJkIMXpRH0",
   "metadata": {
    "ExecuteTime": {
     "end_time": "2023-02-05T14:08:53.794253Z",
     "start_time": "2023-02-05T14:08:53.782248Z"
    },
    "colab": {
     "base_uri": "https://localhost:8080/"
    },
    "id": "4_NJkIMXpRH0",
    "outputId": "93ddafd0-8cb4-4e17-f013-2f50bc79c42f"
   },
   "outputs": [
    {
     "data": {
      "text/plain": [
       "0.6656647807637907"
      ]
     },
     "execution_count": 54,
     "metadata": {},
     "output_type": "execute_result"
    }
   ],
   "source": [
    "f1_score(y_train, y_pred_train)"
   ]
  },
  {
   "cell_type": "code",
   "execution_count": 55,
   "id": "31b31369",
   "metadata": {
    "ExecuteTime": {
     "end_time": "2023-02-05T14:08:54.744652Z",
     "start_time": "2023-02-05T14:08:54.724705Z"
    },
    "colab": {
     "base_uri": "https://localhost:8080/"
    },
    "id": "nESNRNbKV_Q7",
    "outputId": "6570b1a1-00f0-4b05-d630-f7d23fa58c3d",
    "scrolled": true
   },
   "outputs": [
    {
     "data": {
      "text/plain": [
       "0.6777163904235728"
      ]
     },
     "execution_count": 55,
     "metadata": {},
     "output_type": "execute_result"
    }
   ],
   "source": [
    "f1_score(y_test, y_pred_test)"
   ]
  },
  {
   "cell_type": "markdown",
   "id": "480a7479",
   "metadata": {},
   "source": [
    "# Test Set"
   ]
  },
  {
   "cell_type": "code",
   "execution_count": null,
   "id": "4cee5ca5",
   "metadata": {
    "ExecuteTime": {
     "end_time": "2022-12-03T06:37:39.390610Z",
     "start_time": "2022-12-03T06:37:39.360684Z"
    }
   },
   "outputs": [],
   "source": [
    "df_test=pd.read_csv(r'C:\\Users\\Prawin\\Documents\\ML PROJECT\\existing_base_test.csv')\n"
   ]
  },
  {
   "cell_type": "code",
   "execution_count": null,
   "id": "309e6693",
   "metadata": {
    "ExecuteTime": {
     "end_time": "2022-12-03T06:37:39.437478Z",
     "start_time": "2022-12-03T06:37:39.392598Z"
    }
   },
   "outputs": [],
   "source": [
    "df_test.head()"
   ]
  },
  {
   "cell_type": "code",
   "execution_count": null,
   "id": "5167c46d",
   "metadata": {
    "ExecuteTime": {
     "end_time": "2022-12-03T06:37:39.452438Z",
     "start_time": "2022-12-03T06:37:39.439474Z"
    }
   },
   "outputs": [],
   "source": []
  },
  {
   "cell_type": "code",
   "execution_count": null,
   "id": "cda3bbae",
   "metadata": {
    "ExecuteTime": {
     "end_time": "2022-12-03T06:37:39.483355Z",
     "start_time": "2022-12-03T06:37:39.454434Z"
    },
    "id": "c64ee2de"
   },
   "outputs": [],
   "source": [
    "columns_2=['age_band','status','family_income','TVarea','gender']\n",
    "for y in columns_2:\n",
    "    z=str(df_test[y].mode())\n",
    "    df_test[y]=df_test[y].str.replace('Unknown',z)\n"
   ]
  },
  {
   "cell_type": "code",
   "execution_count": null,
   "id": "7cbb809b",
   "metadata": {
    "ExecuteTime": {
     "end_time": "2022-12-03T06:37:39.498316Z",
     "start_time": "2022-12-03T06:37:39.485351Z"
    }
   },
   "outputs": [],
   "source": [
    "columns = df_test.columns"
   ]
  },
  {
   "cell_type": "code",
   "execution_count": null,
   "id": "2dae23f5",
   "metadata": {
    "ExecuteTime": {
     "end_time": "2022-12-03T06:37:39.545215Z",
     "start_time": "2022-12-03T06:37:39.499313Z"
    },
    "colab": {
     "base_uri": "https://localhost:8080/"
    },
    "id": "fEDXV1TC1CRP",
    "outputId": "4cc320cf-d0ed-4d61-b079-ffcf6bc3ccc2"
   },
   "outputs": [],
   "source": [
    "for z in columns:\n",
    "    if df_test[df_test[z]=='Unknown'][z].count() !=0:\n",
    "        print('Column is:',z)\n",
    "        print(df_test[df_test[z]=='Unknown'][z].count())"
   ]
  },
  {
   "cell_type": "code",
   "execution_count": null,
   "id": "1e73b8ec",
   "metadata": {
    "ExecuteTime": {
     "end_time": "2022-12-03T06:37:39.561218Z",
     "start_time": "2022-12-03T06:37:39.546214Z"
    },
    "id": "b3867133"
   },
   "outputs": [],
   "source": [
    "retired_age_band=['61-65','65-70','71+']"
   ]
  },
  {
   "cell_type": "code",
   "execution_count": null,
   "id": "7a4d772a",
   "metadata": {
    "ExecuteTime": {
     "end_time": "2022-12-03T06:37:39.577174Z",
     "start_time": "2022-12-03T06:37:39.563213Z"
    },
    "id": "9cFWHlrmHdnp"
   },
   "outputs": [],
   "source": [
    "df_test.loc[(df_test['occupation']=='Unknown') & (df_test['age_band'].isin(retired_age_band)), 'occupation']='Retired'\n",
    "df_test.loc[(df_test['occupation']=='Unknown'), 'occupation']='Professional'\n",
    "df_test.loc[(df_test['occupation_partner']=='Unknown') & (df_test['age_band'].isin(retired_age_band)), 'occupation_partner']='Retired'\n",
    "df_test.loc[(df_test['occupation_partner']=='Unknown'), 'occupation_partner']='Professional'"
   ]
  },
  {
   "cell_type": "code",
   "execution_count": null,
   "id": "cec28f83",
   "metadata": {
    "ExecuteTime": {
     "end_time": "2022-12-03T06:37:39.592173Z",
     "start_time": "2022-12-03T06:37:39.579170Z"
    },
    "colab": {
     "base_uri": "https://localhost:8080/"
    },
    "id": "TUZUC6rBR7UY",
    "outputId": "7e7ec191-6964-48b2-d0f2-dd5818613ac7"
   },
   "outputs": [],
   "source": [
    "df_test['age_band'].value_counts()"
   ]
  },
  {
   "cell_type": "code",
   "execution_count": null,
   "id": "ace08ca8",
   "metadata": {
    "ExecuteTime": {
     "end_time": "2022-12-03T06:37:39.608091Z",
     "start_time": "2022-12-03T06:37:39.594131Z"
    },
    "id": "oYdxc9wxUbk9"
   },
   "outputs": [],
   "source": [
    "df_test['age_band'] = df_test['age_band'].str.replace('0    45-50\\ndtype: object','45-50')"
   ]
  },
  {
   "cell_type": "markdown",
   "id": "1de9fc53",
   "metadata": {},
   "source": [
    "# Converting columns to comparable forms"
   ]
  },
  {
   "cell_type": "code",
   "execution_count": null,
   "id": "84b2e1c0",
   "metadata": {
    "ExecuteTime": {
     "end_time": "2022-12-03T06:37:39.639009Z",
     "start_time": "2022-12-03T06:37:39.610087Z"
    },
    "id": "t9v29NSyVHRD"
   },
   "outputs": [],
   "source": [
    "df_test['age_band'] = df_test['age_band'].str.replace('45-50','50',regex=False)\n",
    "df_test['age_band'] = df_test['age_band'].str.replace('41-45','45',regex=False)\n",
    "df_test['age_band'] = df_test['age_band'].str.replace('36-40','40',regex=False)\n",
    "df_test['age_band'] = df_test['age_band'].str.replace('55-60','60',regex=False)\n",
    "df_test['age_band'] = df_test['age_band'].str.replace('31-35','35',regex=False)\n",
    "df_test['age_band'] = df_test['age_band'].str.replace('51-55','55',regex=False)\n",
    "df_test['age_band'] = df_test['age_band'].str.replace('26-30','30',regex=False)\n",
    "df_test['age_band'] = df_test['age_band'].str.replace('61-65','65',regex=False)\n",
    "df_test['age_band'] = df_test['age_band'].str.replace('65-70','70',regex=False)\n",
    "df_test['age_band'] = df_test['age_band'].str.replace('22-25','25',regex=False)\n",
    "df_test['age_band'] = df_test['age_band'].str.replace('71+','71',regex=False)\n",
    "df_test['age_band'] = df_test['age_band'].str.replace('18-21','21',regex=False)\n",
    "\n"
   ]
  },
  {
   "cell_type": "code",
   "execution_count": null,
   "id": "ff842b17",
   "metadata": {
    "ExecuteTime": {
     "end_time": "2022-12-03T06:37:39.654574Z",
     "start_time": "2022-12-03T06:37:39.641005Z"
    },
    "id": "VwIn4OfGVSoC"
   },
   "outputs": [],
   "source": [
    "df_test[['age_band']] =df_test[['age_band']].apply(pd.to_numeric)"
   ]
  },
  {
   "cell_type": "code",
   "execution_count": null,
   "id": "d1a250e8",
   "metadata": {
    "ExecuteTime": {
     "end_time": "2022-12-03T06:37:39.670521Z",
     "start_time": "2022-12-03T06:37:39.656564Z"
    },
    "colab": {
     "base_uri": "https://localhost:8080/"
    },
    "id": "IP62HqBkbkzH",
    "outputId": "709abe8d-8e6c-4bf7-91e6-babef1b12bc3"
   },
   "outputs": [],
   "source": [
    "df_test['family_income'].unique()"
   ]
  },
  {
   "cell_type": "code",
   "execution_count": null,
   "id": "f006bf9a",
   "metadata": {
    "ExecuteTime": {
     "end_time": "2022-12-03T06:37:39.685875Z",
     "start_time": "2022-12-03T06:37:39.672530Z"
    },
    "id": "pIAiJr5tcbnf"
   },
   "outputs": [],
   "source": [
    "salary_1=['<22,500, >=20,000', '<25,000, >=22,500','<30,000, >=27,500', '<20,000, >=17,500', '<27,500, >=25,000','< 4,000', '<15,000, >=12,500', '<17,500, >=15,000',\n",
    "       '< 8,000, >= 4,000', '<12,500, >=10,000', '<10,000, >= 8,000']"
   ]
  },
  {
   "cell_type": "code",
   "execution_count": null,
   "id": "26bc492c",
   "metadata": {
    "ExecuteTime": {
     "end_time": "2022-12-03T06:37:39.717274Z",
     "start_time": "2022-12-03T06:37:39.687648Z"
    },
    "id": "GHQW_3lZLeqS"
   },
   "outputs": [],
   "source": [
    "df_test['family_income'] = df_test['family_income'].str.replace('>=35,000','35000',regex=False)\n",
    "df_test['family_income'] = df_test['family_income'].str.replace('<22,500, >=20,000','22500',regex=False)\n",
    "df_test['family_income'] = df_test['family_income'].str.replace('<25,000, >=22,500','25000',regex=False)\n",
    "df_test['family_income'] = df_test['family_income'].str.replace('<30,000, >=27,500','30000',regex=False)\n",
    "df_test['family_income'] = df_test['family_income'].str.replace('<20,000, >=17,500','20000',regex=False)\n",
    "df_test['family_income'] = df_test['family_income'].str.replace('<27,500, >=25,000','27500',regex=False)\n",
    "df_test['family_income'] = df_test['family_income'].str.replace('< 4,000','4000',regex=False)\n",
    "df_test['family_income'] = df_test['family_income'].str.replace('<15,000, >=12,500','15000',regex=False)\n",
    "df_test['family_income'] = df_test['family_income'].str.replace('<17,500, >=15,000','17500',regex=False)\n",
    "df_test['family_income'] = df_test['family_income'].str.replace('< 8,000, >= 4,000','8000',regex=False)\n",
    "df_test['family_income'] = df_test['family_income'].str.replace('<12,500, >=10,000','12500',regex=False)\n",
    "df_test['family_income'] = df_test['family_income'].str.replace('<10,000, >= 8,000','10000',regex=False)\n",
    "df_test['family_income'] = df_test['family_income'].str.replace('0    35000\\ndtype: object','35000',regex=False)\n",
    "\n"
   ]
  },
  {
   "cell_type": "code",
   "execution_count": null,
   "id": "6b27d878",
   "metadata": {
    "ExecuteTime": {
     "end_time": "2022-12-03T06:37:39.733005Z",
     "start_time": "2022-12-03T06:37:39.719253Z"
    },
    "id": "nW-sThZUOl_S"
   },
   "outputs": [],
   "source": [
    "df_test[['family_income']] = df_test[['family_income']].apply(pd.to_numeric)\n"
   ]
  },
  {
   "cell_type": "code",
   "execution_count": null,
   "id": "f3c285e6",
   "metadata": {
    "ExecuteTime": {
     "end_time": "2022-12-03T06:37:39.764372Z",
     "start_time": "2022-12-03T06:37:39.734778Z"
    },
    "id": "mDHs6PlVP8Qb"
   },
   "outputs": [],
   "source": [
    "df_test['status'] = df_test['status'].str.replace('0    Partner\\ndtype: object','Partner',regex=False)\n",
    "df_test['gender'] = df_test['gender'].str.replace('0    Female\\ndtype: object','Female',regex=False)"
   ]
  },
  {
   "cell_type": "markdown",
   "id": "dadbaa45",
   "metadata": {},
   "source": [
    "# Merging columns"
   ]
  },
  {
   "cell_type": "code",
   "execution_count": null,
   "id": "1ca1b429",
   "metadata": {
    "ExecuteTime": {
     "end_time": "2022-12-03T06:37:43.738845Z",
     "start_time": "2022-12-03T06:37:43.716144Z"
    },
    "id": "t8FWKmTwGB5f"
   },
   "outputs": [],
   "source": [
    "df_test['investments']=df_test['Investment_in_Mutual_Fund']+df_test['Investment_Tax_Saving_Bond']+df_test['Investment_in_Commudity']+df_test['Investment_in_Equity']+df_test['Investment_in_Derivative']+df_test['Term_Deposit']\n",
    "df_test['spending']=df_test['Balance_Transfer']+df_test['Online_Purchase_Amount']\n",
    "df_test['loans']=df_test['Personal_Loan']+df_test['Home_Loan']\n",
    "df_test['insurance']=df_test['Life_Insurance']+df_test['Medical_Insurance']"
   ]
  },
  {
   "cell_type": "code",
   "execution_count": null,
   "id": "DlEj0g8UHgvs",
   "metadata": {
    "ExecuteTime": {
     "end_time": "2022-12-03T06:38:09.236013Z",
     "start_time": "2022-12-03T06:38:09.213074Z"
    },
    "id": "DlEj0g8UHgvs"
   },
   "outputs": [],
   "source": [
    "df_test.drop(columns=['Life_Insurance','Medical_Insurance','Personal_Loan','Investment_in_Mutual_Fund','Investment_Tax_Saving_Bond','Home_Loan','Investment_in_Commudity','Investment_in_Equity','Investment_in_Derivative','Term_Deposit','Balance_Transfer','Online_Purchase_Amount','post_area','region'],inplace=True)\n",
    "df_test.drop(columns=['post_code','REF_NO'],inplace=True)\n",
    "df_test.drop(['year_last_moved','children','TVarea'],inplace=True,axis=1)"
   ]
  },
  {
   "cell_type": "code",
   "execution_count": null,
   "id": "9l7C7T7BXVjd",
   "metadata": {
    "ExecuteTime": {
     "end_time": "2022-12-03T06:38:25.705013Z",
     "start_time": "2022-12-03T06:38:25.697038Z"
    },
    "id": "9l7C7T7BXVjd"
   },
   "outputs": [],
   "source": [
    "cat_cols =list(['status', 'occupation', 'occupation_partner', 'home_status',\n",
    "       'self_employed', 'self_employed_partner', 'gender',\n",
    "       ])"
   ]
  },
  {
   "cell_type": "code",
   "execution_count": null,
   "id": "_2l_-PFfB6VW",
   "metadata": {
    "ExecuteTime": {
     "end_time": "2022-12-03T06:38:29.263513Z",
     "start_time": "2022-12-03T06:38:29.247525Z"
    },
    "colab": {
     "base_uri": "https://localhost:8080/"
    },
    "id": "_2l_-PFfB6VW",
    "outputId": "67a3f2eb-16c1-42b4-d16b-c8b6e77256ca"
   },
   "outputs": [],
   "source": [
    "for c in cat_cols:\n",
    "    print(df_test[c].value_counts())\n",
    "    print('='*70)"
   ]
  },
  {
   "cell_type": "markdown",
   "id": "gqfOldJCEpAi",
   "metadata": {
    "id": "gqfOldJCEpAi"
   },
   "source": [
    "# Label encoding for all the categorical columns"
   ]
  },
  {
   "cell_type": "code",
   "execution_count": null,
   "id": "nlQ0bhFvEnER",
   "metadata": {
    "ExecuteTime": {
     "end_time": "2022-12-03T06:38:52.836699Z",
     "start_time": "2022-12-03T06:38:52.822710Z"
    },
    "id": "nlQ0bhFvEnER"
   },
   "outputs": [],
   "source": [
    "from sklearn import preprocessing\n",
    "le = preprocessing.LabelEncoder()\n",
    "\n",
    "for x in cat_cols:\n",
    "    df_test[x] = le.fit_transform(df_test[x].astype(str))\n",
    "  "
   ]
  },
  {
   "cell_type": "markdown",
   "id": "TMCWbMDKdGHX",
   "metadata": {
    "id": "TMCWbMDKdGHX"
   },
   "source": [
    "# Skewness of columns"
   ]
  },
  {
   "cell_type": "code",
   "execution_count": null,
   "id": "4be2ef3a",
   "metadata": {
    "ExecuteTime": {
     "end_time": "2022-12-03T06:38:57.764880Z",
     "start_time": "2022-12-03T06:38:57.751915Z"
    }
   },
   "outputs": [],
   "source": [
    "df_test['Portfolio_Balance'].skew(axis=0)"
   ]
  },
  {
   "cell_type": "code",
   "execution_count": null,
   "id": "c64620a1",
   "metadata": {
    "ExecuteTime": {
     "end_time": "2022-12-03T06:39:28.979113Z",
     "start_time": "2022-12-03T06:39:28.959149Z"
    }
   },
   "outputs": [],
   "source": [
    "df_test['Portfolio_Balance']=np.log(x_main['Portfolio_Balance']+75)"
   ]
  },
  {
   "cell_type": "code",
   "execution_count": null,
   "id": "f71094f0",
   "metadata": {
    "ExecuteTime": {
     "end_time": "2022-12-03T06:39:32.645772Z",
     "start_time": "2022-12-03T06:39:32.624829Z"
    }
   },
   "outputs": [],
   "source": [
    "df_test['Portfolio_Balance'].skew(axis=0)"
   ]
  },
  {
   "cell_type": "code",
   "execution_count": null,
   "id": "9f756667",
   "metadata": {
    "ExecuteTime": {
     "end_time": "2022-12-03T06:40:14.304864Z",
     "start_time": "2022-12-03T06:40:14.285914Z"
    }
   },
   "outputs": [],
   "source": [
    "num_cols=['age_band','family_income','Average_Credit_Card_Transaction','Average_A/C_Balance','investments','spending','loans','insurance']    \n",
    "skew_values=dict()\n",
    "for x in num_cols:\n",
    "    skew_values[x]=df_test[x].skew(axis=0)\n",
    "        "
   ]
  },
  {
   "cell_type": "code",
   "execution_count": null,
   "id": "84508c4e",
   "metadata": {
    "ExecuteTime": {
     "end_time": "2022-12-03T06:40:19.496250Z",
     "start_time": "2022-12-03T06:40:19.476330Z"
    }
   },
   "outputs": [],
   "source": [
    "pprint(skew_values)"
   ]
  },
  {
   "cell_type": "code",
   "execution_count": null,
   "id": "4a7a05c9",
   "metadata": {
    "ExecuteTime": {
     "end_time": "2022-12-03T06:40:26.501520Z",
     "start_time": "2022-12-03T06:40:26.489571Z"
    }
   },
   "outputs": [],
   "source": [
    "for x in list(skew_values):\n",
    "    if skew_values[x]>-0.5 and skew_values[x]<0.5:\n",
    "        del skew_values[x]"
   ]
  },
  {
   "cell_type": "code",
   "execution_count": null,
   "id": "deabe4da",
   "metadata": {
    "ExecuteTime": {
     "end_time": "2022-12-03T06:40:29.141320Z",
     "start_time": "2022-12-03T06:40:29.123369Z"
    }
   },
   "outputs": [],
   "source": [
    "pprint(skew_values)"
   ]
  },
  {
   "cell_type": "code",
   "execution_count": null,
   "id": "n_fPOkUFOGu8",
   "metadata": {
    "ExecuteTime": {
     "end_time": "2022-12-03T06:40:45.733183Z",
     "start_time": "2022-12-03T06:40:45.719218Z"
    },
    "id": "n_fPOkUFOGu8"
   },
   "outputs": [],
   "source": [
    "## Log transformation \n",
    "\n",
    "for z in skew_values:\n",
    "    df_test[z]=np.log(df_test[z]+1)\n"
   ]
  },
  {
   "cell_type": "code",
   "execution_count": null,
   "id": "00628a1d",
   "metadata": {
    "ExecuteTime": {
     "end_time": "2022-12-03T06:40:56.577697Z",
     "start_time": "2022-12-03T06:40:56.565747Z"
    }
   },
   "outputs": [],
   "source": [
    "skew_values_2=dict()\n",
    "for x in num_cols:\n",
    "    skew_values_2[x]=df_test[x].skew(axis=0)\n",
    "for x in list(skew_values_2):\n",
    "    if skew_values_2[x]>-0.5 and skew_values_2[x]<0.5:\n",
    "        del skew_values_2[x]\n",
    "pprint(skew_values_2)"
   ]
  },
  {
   "cell_type": "code",
   "execution_count": null,
   "id": "6a6ee56b",
   "metadata": {
    "ExecuteTime": {
     "end_time": "2022-12-03T06:41:06.200914Z",
     "start_time": "2022-12-03T06:41:06.185956Z"
    }
   },
   "outputs": [],
   "source": [
    "### box cox transformation \n",
    "\n",
    "for z in skew_values_2:\n",
    "    df_test[z],_=stats.boxcox(df_test[z]+1)"
   ]
  },
  {
   "cell_type": "code",
   "execution_count": null,
   "id": "3a10110a",
   "metadata": {
    "ExecuteTime": {
     "end_time": "2022-12-03T06:41:12.531656Z",
     "start_time": "2022-12-03T06:41:12.516702Z"
    }
   },
   "outputs": [],
   "source": [
    "skew_values_2=dict()\n",
    "for x in num_cols:\n",
    "    skew_values_2[x]=df_test[x].skew(axis=0)\n",
    "for x in list(skew_values_2):\n",
    "    if skew_values_2[x]>-0.5 and skew_values_2[x]<0.5:\n",
    "        del skew_values_2[x]\n",
    "pprint(skew_values_2)"
   ]
  },
  {
   "cell_type": "markdown",
   "id": "71f944ee",
   "metadata": {
    "id": "D8SdtiRFM-k1"
   },
   "source": [
    "# Train Test Split-Model"
   ]
  },
  {
   "cell_type": "code",
   "execution_count": null,
   "id": "d8HlXskLKkUS",
   "metadata": {
    "ExecuteTime": {
     "end_time": "2022-12-03T06:45:58.274363Z",
     "start_time": "2022-12-03T06:45:58.254415Z"
    },
    "id": "d8HlXskLKkUS"
   },
   "outputs": [],
   "source": [
    "\n",
    "from sklearn.preprocessing import MinMaxScaler\n",
    "mms=MinMaxScaler()\n",
    "df_test[num_cols]=mms.fit_transform(df_test[num_cols])\n",
    "df_test[num_cols]=mms.fit_transform(df_test[num_cols])"
   ]
  },
  {
   "cell_type": "code",
   "execution_count": null,
   "id": "78038d1c",
   "metadata": {
    "ExecuteTime": {
     "end_time": "2022-12-03T06:37:39.312813Z",
     "start_time": "2022-12-03T06:37:39.298852Z"
    }
   },
   "outputs": [],
   "source": [
    "from sklearn.metrics import f1_score"
   ]
  },
  {
   "cell_type": "code",
   "execution_count": null,
   "id": "3-lG_D1xORRZ",
   "metadata": {
    "ExecuteTime": {
     "end_time": "2022-12-03T06:57:53.703184Z",
     "start_time": "2022-12-03T06:57:53.694208Z"
    },
    "id": "3-lG_D1xORRZ"
   },
   "outputs": [],
   "source": [
    "submission=pd.DataFrame(logreg2.predict(df_test))\n"
   ]
  },
  {
   "cell_type": "code",
   "execution_count": null,
   "id": "edcbb442",
   "metadata": {
    "ExecuteTime": {
     "end_time": "2022-12-03T06:57:55.054297Z",
     "start_time": "2022-12-03T06:57:55.038340Z"
    }
   },
   "outputs": [],
   "source": [
    "submission.shape"
   ]
  },
  {
   "cell_type": "code",
   "execution_count": null,
   "id": "c13cd5fe",
   "metadata": {
    "ExecuteTime": {
     "end_time": "2022-12-03T07:00:27.106173Z",
     "start_time": "2022-12-03T07:00:27.066824Z"
    }
   },
   "outputs": [],
   "source": [
    "to_delete=pd.read_csv(r'C:\\Users\\Prawin\\Documents\\ML PROJECT\\existing_base_test.csv')"
   ]
  },
  {
   "cell_type": "code",
   "execution_count": null,
   "id": "22b1af26",
   "metadata": {
    "ExecuteTime": {
     "end_time": "2022-12-03T07:00:32.408151Z",
     "start_time": "2022-12-03T07:00:32.390200Z"
    }
   },
   "outputs": [],
   "source": [
    "submission['REF_NO']=to_delete['REF_NO']"
   ]
  },
  {
   "cell_type": "code",
   "execution_count": null,
   "id": "1886fc73",
   "metadata": {
    "ExecuteTime": {
     "end_time": "2022-12-03T07:01:22.311588Z",
     "start_time": "2022-12-03T07:01:22.299583Z"
    }
   },
   "outputs": [],
   "source": [
    "submission=submission.iloc[:,[1,0]]\n"
   ]
  },
  {
   "cell_type": "code",
   "execution_count": null,
   "id": "6f9c258d",
   "metadata": {
    "ExecuteTime": {
     "end_time": "2022-12-03T07:01:27.214122Z",
     "start_time": "2022-12-03T07:01:27.195171Z"
    }
   },
   "outputs": [],
   "source": [
    "submission"
   ]
  },
  {
   "cell_type": "code",
   "execution_count": null,
   "id": "59e1ffd3",
   "metadata": {
    "ExecuteTime": {
     "end_time": "2022-12-03T07:04:20.022362Z",
     "start_time": "2022-12-03T07:04:20.008377Z"
    }
   },
   "outputs": [],
   "source": [
    "submission.to_csv(r'submission.csv', index=False, header=False)"
   ]
  }
 ],
 "metadata": {
  "colab": {
   "provenance": []
  },
  "kernelspec": {
   "display_name": "Python 3 (ipykernel)",
   "language": "python",
   "name": "python3"
  },
  "language_info": {
   "codemirror_mode": {
    "name": "ipython",
    "version": 3
   },
   "file_extension": ".py",
   "mimetype": "text/x-python",
   "name": "python",
   "nbconvert_exporter": "python",
   "pygments_lexer": "ipython3",
   "version": "3.9.7"
  }
 },
 "nbformat": 4,
 "nbformat_minor": 5
}
